{
 "cells": [
  {
   "cell_type": "code",
   "execution_count": null,
   "id": "b5822baa",
   "metadata": {},
   "outputs": [],
   "source": [
    "#reading the data"
   ]
  },
  {
   "cell_type": "code",
   "execution_count": 1,
   "id": "a4c42626",
   "metadata": {},
   "outputs": [
    {
     "name": "stdout",
     "output_type": "stream",
     "text": [
      "Connected to MySQL Server, version is 8.0.29\n",
      "Enter Week Start Date:04\n",
      "Enter the month:06\n",
      "Enter the year:2022\n",
      "2022-06-04\n",
      "succesfully deleted\n"
     ]
    }
   ],
   "source": [
    "\n",
    "\n",
    "import MySQLdb\n",
    "import datetime\n",
    "from MySQLdb import Error\n",
    "import pandas as pd\n",
    "# import pygsheets #Importing python in google sheets\n",
    "\n",
    "# localhost = \"everest.casyoiozkia2.ap-south-1.rds.amazonaws.com\" \n",
    "# pythonuser = \"himani\" #user_name of database\n",
    "# pythonpwd123 = \"Himani@EverestFleet@1234\" #password \n",
    "# database = \"jarvis\" #database to connect to\n",
    "\n",
    "localhost = \"localhost\" #IP Address of database\n",
    "pythonuser = \"root\" #user_name of database\n",
    "pythonpwd123 = \"root\" #password for username\n",
    "database = \"testdb\" #database to connect to\n",
    "try:\n",
    "    dbconnect = MySQLdb.connect(host = localhost, user = pythonuser, password = pythonpwd123, database = database)\n",
    "    \n",
    "    if dbconnect.get_server_info():\n",
    "        print(\"Connected to MySQL Server, version is\",dbconnect.get_server_info())\n",
    "        \n",
    "        #getting from database\n",
    "        \n",
    "        try:\n",
    "            cur = dbconnect.cursor()\n",
    "            day = int(input('Enter Week Start Date:'))\n",
    "            month = int(input('Enter the month:'))\n",
    "            year = int(input('Enter the year:'))\n",
    "            last_week_day = datetime.date(year,month,day)\n",
    "            print(last_week_day)\n",
    "            sql=(\" SELECT * FROM test_fleet WHERE date_of_joining='%s-%s-%s' \")\n",
    "            cur.execute(sql, (year,month,day))\n",
    "            query = \"DELETE FROM test_fleet WHERE date_of_joining ='%s-%s-%s' \"\n",
    "            cur.execute(query, (year,month,day))\n",
    "            dbconnect.commit()\n",
    "            print(\"succesfully deleted\")\n",
    "                    \n",
    "            Fleet_driver_2_record = cur.fetchall()\n",
    "            Fleet_driver_2_df = pd.DataFrame(Fleet_driver_2_record)\n",
    "        except Error as e:\n",
    "            print(\"Error:\",e)\n",
    "# Fleet_driver_2_df.head(10)\n",
    "            \n",
    "        cur.execute(\"SELECT * FROM test_fleet WHERE date_of_joining='2022-06-05' \")                   \n",
    "except Error as e:\n",
    "    print(\"Error:\",e)   \n",
    "\n"
   ]
  },
  {
   "cell_type": "code",
   "execution_count": 14,
   "id": "895f630c",
   "metadata": {},
   "outputs": [
    {
     "data": {
      "text/html": [
       "<div>\n",
       "<style scoped>\n",
       "    .dataframe tbody tr th:only-of-type {\n",
       "        vertical-align: middle;\n",
       "    }\n",
       "\n",
       "    .dataframe tbody tr th {\n",
       "        vertical-align: top;\n",
       "    }\n",
       "\n",
       "    .dataframe thead th {\n",
       "        text-align: right;\n",
       "    }\n",
       "</style>\n",
       "<table border=\"1\" class=\"dataframe\">\n",
       "  <thead>\n",
       "    <tr style=\"text-align: right;\">\n",
       "      <th></th>\n",
       "    </tr>\n",
       "  </thead>\n",
       "  <tbody>\n",
       "  </tbody>\n",
       "</table>\n",
       "</div>"
      ],
      "text/plain": [
       "Empty DataFrame\n",
       "Columns: []\n",
       "Index: []"
      ]
     },
     "execution_count": 14,
     "metadata": {},
     "output_type": "execute_result"
    }
   ],
   "source": [
    "query=\"SELECT * FROM tablename Where IS NULL\""
   ]
  },
  {
   "cell_type": "code",
   "execution_count": 9,
   "id": "f3e6692e",
   "metadata": {},
   "outputs": [
    {
     "name": "stdout",
     "output_type": "stream",
     "text": [
      "Connected to MySQL Server, version is 8.0.29\n"
     ]
    },
    {
     "data": {
      "text/html": [
       "<div>\n",
       "<style scoped>\n",
       "    .dataframe tbody tr th:only-of-type {\n",
       "        vertical-align: middle;\n",
       "    }\n",
       "\n",
       "    .dataframe tbody tr th {\n",
       "        vertical-align: top;\n",
       "    }\n",
       "\n",
       "    .dataframe thead th {\n",
       "        text-align: right;\n",
       "    }\n",
       "</style>\n",
       "<table border=\"1\" class=\"dataframe\">\n",
       "  <thead>\n",
       "    <tr style=\"text-align: right;\">\n",
       "      <th></th>\n",
       "      <th>id</th>\n",
       "      <th>city_id</th>\n",
       "      <th>name</th>\n",
       "      <th>doj</th>\n",
       "      <th>ed</th>\n",
       "      <th>rd</th>\n",
       "    </tr>\n",
       "  </thead>\n",
       "  <tbody>\n",
       "    <tr>\n",
       "      <th>0</th>\n",
       "      <td>1</td>\n",
       "      <td>ETM0001</td>\n",
       "      <td>AMIT</td>\n",
       "      <td>123456789</td>\n",
       "      <td>1</td>\n",
       "      <td>None</td>\n",
       "    </tr>\n",
       "    <tr>\n",
       "      <th>1</th>\n",
       "      <td>2</td>\n",
       "      <td>ETM0002</td>\n",
       "      <td>SUMIT</td>\n",
       "      <td>987654321</td>\n",
       "      <td>2</td>\n",
       "      <td>None</td>\n",
       "    </tr>\n",
       "    <tr>\n",
       "      <th>2</th>\n",
       "      <td>3</td>\n",
       "      <td>ETM0003</td>\n",
       "      <td>rohan</td>\n",
       "      <td>81818188</td>\n",
       "      <td>1</td>\n",
       "      <td>None</td>\n",
       "    </tr>\n",
       "  </tbody>\n",
       "</table>\n",
       "</div>"
      ],
      "text/plain": [
       "   id  city_id   name        doj  ed    rd\n",
       "0   1  ETM0001   AMIT  123456789   1  None\n",
       "1   2  ETM0002  SUMIT  987654321   2  None\n",
       "2   3  ETM0003  rohan   81818188   1  None"
      ]
     },
     "execution_count": 9,
     "metadata": {},
     "output_type": "execute_result"
    }
   ],
   "source": [
    "\n",
    "\n",
    "import MySQLdb\n",
    "import datetime\n",
    "from MySQLdb import Error\n",
    "import pandas as pd\n",
    "import pygsheets #Importing python in google sheets\n",
    "\n",
    "# localhost = \"everest.casyoiozkia2.ap-south-1.rds.amazonaws.com\" \n",
    "# pythonuser = \"himani\" #user_name of database\n",
    "# pythonpwd123 = \"Himani@EverestFleet@1234\" #password \n",
    "# database = \"jarvis\" #database to connect to\n",
    "\n",
    "localhost = \"localhost\" #IP Address of database\n",
    "pythonuser = \"root\" #user_name of database\n",
    "pythonpwd123 = \"root\" #password for username\n",
    "database = \"testdb\" #database to connect to\n",
    "try:\n",
    "    dbconnect = MySQLdb.connect(host = localhost, user = pythonuser, password = pythonpwd123, database = database)\n",
    "    \n",
    "    if dbconnect.get_server_info():\n",
    "        print(\"Connected to MySQL Server, version is\",dbconnect.get_server_info())\n",
    "        \n",
    "        #getting from database\n",
    "        \n",
    "        try:\n",
    "            cur = dbconnect.cursor()\n",
    "            sql=(\"SELECT * FROM test_fleet WHERE date_of_joining IS NULL;\")\n",
    "            dfm=cur.execute(sql)\n",
    "            etp_record = cur.fetchall()\n",
    "            etp_df = pd.DataFrame(etp_record)\n",
    "            etp = etp_df.set_axis(['id', 'city_id','name','doj','ed','rd'], axis='columns')  \n",
    "\n",
    "        except Error as e:\n",
    "            print(\"Error:\",e)\n",
    "            \n",
    "except Error as e:\n",
    "    print(\"Error:\",e)\n",
    "    \n",
    "etp\n"
   ]
  },
  {
   "cell_type": "code",
   "execution_count": 9,
   "id": "0ea62569",
   "metadata": {},
   "outputs": [],
   "source": [
    "\n",
    "import MySQLdb\n",
    "import datetime\n",
    "from MySQLdb import Error\n",
    "import pandas as pd\n",
    "import pygsheets #Importing python in google sheets"
   ]
  },
  {
   "cell_type": "code",
   "execution_count": 2,
   "id": "d8fd9b51",
   "metadata": {},
   "outputs": [
    {
     "name": "stdout",
     "output_type": "stream",
     "text": [
      "Enter the year:2022\n",
      "Enter the month:06\n",
      "Enter Week Start Date:05\n",
      "2022-06-05\n"
     ]
    }
   ],
   "source": [
    "year = int(input('Enter the year:'))\n",
    "month = int(input('Enter the month:'))\n",
    "day = int(input('Enter Week Start Date:'))\n",
    "data=str(year)+'-'+'0'+str(month)+'-'+'0'+str(day)\n",
    "# print(data)\n",
    "last_week_day = datetime.date(year,month,day)\n",
    "print(last_week_day)\n"
   ]
  },
  {
   "cell_type": "code",
   "execution_count": 12,
   "id": "ab77d75a",
   "metadata": {},
   "outputs": [
    {
     "ename": "SyntaxError",
     "evalue": "invalid syntax (Temp/ipykernel_13572/3922181811.py, line 4)",
     "output_type": "error",
     "traceback": [
      "\u001b[1;36m  File \u001b[1;32m\"C:\\Users\\sagar\\AppData\\Local\\Temp/ipykernel_13572/3922181811.py\"\u001b[1;36m, line \u001b[1;32m4\u001b[0m\n\u001b[1;33m    d = \"{year}-{month}-{day}\".format(%year,%month,%day)\u001b[0m\n\u001b[1;37m                                      ^\u001b[0m\n\u001b[1;31mSyntaxError\u001b[0m\u001b[1;31m:\u001b[0m invalid syntax\n"
     ]
    }
   ],
   "source": [
    "year = int(input('Enter the year:'))\n",
    "month = int(input('Enter the month:'))\n",
    "day = int(input('Enter Week Start Date:'))\n",
    "d = \"{year}-{month}-{day}\".format(year,month,day)\n",
    "print(d)"
   ]
  },
  {
   "cell_type": "code",
   "execution_count": null,
   "id": "b18d9be9",
   "metadata": {},
   "outputs": [],
   "source": [
    "#updating the data"
   ]
  },
  {
   "cell_type": "code",
   "execution_count": 3,
   "id": "57cb15f2",
   "metadata": {},
   "outputs": [
    {
     "name": "stdout",
     "output_type": "stream",
     "text": [
      "Connected to MySQL Server, version is 8.0.29\n",
      "Enter date 2022-05-06\n",
      "Enter id 2\n",
      "query updated \n"
     ]
    }
   ],
   "source": [
    "\n",
    "\n",
    "import MySQLdb\n",
    "from MySQLdb import Error\n",
    "import pandas as pd\n",
    "import pygsheets #Importing python in google sheets\n",
    "\n",
    "# localhost = \"everest.casyoiozkia2.ap-south-1.rds.amazonaws.com\" \n",
    "# pythonuser = \"himani\" #user_name of database\n",
    "# pythonpwd123 = \"Himani@EverestFleet@1234\" #password \n",
    "# database = \"jarvis\" #database to connect to\n",
    "\n",
    "localhost = \"localhost\" #IP Address of database\n",
    "pythonuser = \"root\" #user_name of database\n",
    "pythonpwd123 = \"root\" #password for username\n",
    "database = \"testdb\" #database to connect to\n",
    "try:\n",
    "    dbconnect = MySQLdb.connect(host = localhost, user = pythonuser, password = pythonpwd123, database = database)\n",
    "    \n",
    "    if dbconnect.get_server_info():\n",
    "        print(\"Connected to MySQL Server, version is\",dbconnect.get_server_info())\n",
    "        \n",
    "        #getting from database\n",
    "        \n",
    "        cur = dbconnect.cursor()\n",
    "        date_inp=input(\"Enter date \")\n",
    "        id_inp=input(\"Enter id \")\n",
    "        sql=' UPDATE test_fleet SET date_of_joining = %s WHERE id = %s '\n",
    "        cur.execute(sql, (date_inp,id_inp))\n",
    "        print(\"query updated \")\n",
    "#         cur.execute('Select * from test_fleet')\n",
    "                    \n",
    "except Error as e:\n",
    "    print(\"Error:\",e)"
   ]
  },
  {
   "cell_type": "code",
   "execution_count": 18,
   "id": "095bce82",
   "metadata": {},
   "outputs": [
    {
     "data": {
      "text/html": [
       "<div>\n",
       "<style scoped>\n",
       "    .dataframe tbody tr th:only-of-type {\n",
       "        vertical-align: middle;\n",
       "    }\n",
       "\n",
       "    .dataframe tbody tr th {\n",
       "        vertical-align: top;\n",
       "    }\n",
       "\n",
       "    .dataframe thead th {\n",
       "        text-align: right;\n",
       "    }\n",
       "</style>\n",
       "<table border=\"1\" class=\"dataframe\">\n",
       "  <thead>\n",
       "    <tr style=\"text-align: right;\">\n",
       "      <th></th>\n",
       "    </tr>\n",
       "  </thead>\n",
       "  <tbody>\n",
       "  </tbody>\n",
       "</table>\n",
       "</div>"
      ],
      "text/plain": [
       "Empty DataFrame\n",
       "Columns: []\n",
       "Index: []"
      ]
     },
     "execution_count": 18,
     "metadata": {},
     "output_type": "execute_result"
    }
   ],
   "source": [
    "Fleet_driver_2_df"
   ]
  },
  {
   "cell_type": "code",
   "execution_count": null,
   "id": "66968557",
   "metadata": {},
   "outputs": [],
   "source": []
  }
 ],
 "metadata": {
  "kernelspec": {
   "display_name": "Python 3 (ipykernel)",
   "language": "python",
   "name": "python3"
  },
  "language_info": {
   "codemirror_mode": {
    "name": "ipython",
    "version": 3
   },
   "file_extension": ".py",
   "mimetype": "text/x-python",
   "name": "python",
   "nbconvert_exporter": "python",
   "pygments_lexer": "ipython3",
   "version": "3.9.7"
  }
 },
 "nbformat": 4,
 "nbformat_minor": 5
}
