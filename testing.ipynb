{
 "cells": [
  {
   "cell_type": "markdown",
   "id": "70ebb3c4",
   "metadata": {},
   "source": [
    "# Running with my local database(mysqldb)"
   ]
  },
  {
   "cell_type": "code",
   "execution_count": 8,
   "id": "eb84e4c4",
   "metadata": {},
   "outputs": [
    {
     "name": "stdout",
     "output_type": "stream",
     "text": [
      "Connected to MySQL Server, version is 8.0.29\n"
     ]
    }
   ],
   "source": [
    "import MySQLdb\n",
    "from MySQLdb import Error\n",
    "import pandas as pd\n",
    "import pygsheets #Importing python in google sheets\n",
    "# from oauth2client.service_account import ServiceAccountCredentials\n",
    "\n",
    "# localhost = \"65.1.250.129\" #IP Address of database\n",
    "# pythonuser = \"root\" #user_name of database\n",
    "# pythonpwd123 = \"Cavis_1234\" #password for username\n",
    "# database = \"jarvis\" #database to connect to\n",
    "\n",
    "localhost = \"localhost\" #IP Address of database\n",
    "pythonuser = \"root\" #user_name of database\n",
    "pythonpwd123 = \"root\" #password for username\n",
    "database = \"testdb\" #database to connect to\n",
    "\n",
    "try:\n",
    "    dbconnect = MySQLdb.connect(host = localhost, user = pythonuser, password = pythonpwd123, database = database)\n",
    "    \n",
    "    if dbconnect.get_server_info():\n",
    "        print(\"Connected to MySQL Server, version is\",dbconnect.get_server_info())\n",
    "        \n",
    "        #getting from database\n",
    "        \n",
    "        cur = dbconnect.cursor()\n",
    "        \n",
    "        cur.execute('SELECT id, employee_id, name, mobile FROM test_fleet WHERE city_id = 1')\n",
    "        Jarvis_record = cur.fetchall()\n",
    "        df = pd.DataFrame(Jarvis_record)\n",
    "        Jarvis=df.set_axis(['id', 'employee_id', 'name','mobile'], axis='columns')\n",
    "\n",
    "        #Creating Connection for google sheet\n",
    "        \n",
    "        client = pygsheets.authorize(service_file='client_secret.json')\n",
    "        \n",
    "        #pushing to sheets\n",
    "        \n",
    "        sheet= client.open_by_key('1xQlorzAmjDzKVLGalIzxWaC3LnwMPNPaZz6oLLWPQ6M')#Fleet_driver_2 jarvis is for testing but need to push in car master jarvis\n",
    "        ws= sheet.worksheet_by_title('Jarvis')\n",
    "        ws.clear(start='A',end='D')\n",
    "#         ws.set_dataframe(Jarvis,(1,1))\n",
    "#         print(\"Testing done succesfully\")\n",
    "        \n",
    "except Error as e :\n",
    "    print(\"Error: unable to convert \",e)"
   ]
  },
  {
   "cell_type": "code",
   "execution_count": 17,
   "id": "5f3e2ac4",
   "metadata": {},
   "outputs": [],
   "source": [
    "#rough work"
   ]
  },
  {
   "cell_type": "code",
   "execution_count": 8,
   "id": "a83b5881",
   "metadata": {},
   "outputs": [
    {
     "data": {
      "text/plain": [
       "<Worksheet 'Jarvis' index:6>"
      ]
     },
     "execution_count": 8,
     "metadata": {},
     "output_type": "execute_result"
    }
   ],
   "source": [
    "import pygsheets #Importing python in google sheets\n",
    "client = pygsheets.authorize(service_file='client_secret.json')\n",
    "sheet= client.open_by_key('1xQlorzAmjDzKVLGalIzxWaC3LnwMPNPaZz6oLLWPQ6M')#Fleet_driver_2 jarvis is for testing but need to push in car master jarvis\n",
    "ws= sheet.worksheet_by_title('Jarvis')\n",
    "# ws.clear()\n",
    "ws.update([Jarvis.columns.values.tolist()] + Jarvis.values.tolist(),value_input_option='USER_ENTERED')\n",
    "print(\"Testing done succesfully\")\n"
   ]
  },
  {
   "cell_type": "code",
   "execution_count": null,
   "id": "ba931e45",
   "metadata": {},
   "outputs": [],
   "source": [
    "# gc = pygsheets.authorize(service_file='/Users/karan_19981/Desktop/Work/Everest_Fleet/Database_Sheets/client_secret.json')\n"
   ]
  },
  {
   "cell_type": "code",
   "execution_count": 85,
   "id": "99bf7f11",
   "metadata": {},
   "outputs": [],
   "source": [
    "# Jarvis"
   ]
  },
  {
   "cell_type": "code",
   "execution_count": 86,
   "id": "be054317",
   "metadata": {},
   "outputs": [],
   "source": [
    "# Jarvis.drop(df.columns[0], axis=1, inplace=True)"
   ]
  },
  {
   "cell_type": "code",
   "execution_count": 88,
   "id": "d935a871",
   "metadata": {},
   "outputs": [],
   "source": [
    "# Jarvis.set_axis(['id', 'employee_id', 'name','mobile'], axis='columns')"
   ]
  },
  {
   "cell_type": "code",
   "execution_count": 87,
   "id": "7b0edcc2",
   "metadata": {},
   "outputs": [],
   "source": [
    "# Jarvis"
   ]
  },
  {
   "cell_type": "code",
   "execution_count": 89,
   "id": "3fb8c74e",
   "metadata": {},
   "outputs": [],
   "source": [
    "# Jarvis_record"
   ]
  },
  {
   "cell_type": "markdown",
   "id": "b7ca4381",
   "metadata": {},
   "source": [
    "# Running with my local database(mysql.connector)"
   ]
  },
  {
   "cell_type": "code",
   "execution_count": 15,
   "id": "0b65c6e9",
   "metadata": {},
   "outputs": [
    {
     "name": "stdout",
     "output_type": "stream",
     "text": [
      "Connected to MySQL Server, version is 8.0.29\n",
      "Converted db to Fleet_driver dataframe succesfully\n",
      "Connection is closed...\n"
     ]
    }
   ],
   "source": [
    "import pandas as pd\n",
    "import mysql.connector\n",
    "import gspread\n",
    "from oauth2client.service_account import ServiceAccountCredentials\n",
    "import warnings\n",
    "warnings.filterwarnings(\"ignore\")\n",
    "from mysql.connector import Error  # this is for knowing the error if occured in connectivity\n",
    "\n",
    "# localhost = \"65.1.250.129\" #IP Address of database\n",
    "# pythonuser = \"root\" #user_name of database\n",
    "# pythonpwd123 = \"Cavis_1234\" #password for username\n",
    "# database = \"jarvis\" #database to connect to\n",
    "\n",
    "localhost = \"localhost\" #IP Address of database\n",
    "pythonuser = \"root\" #user_name of database\n",
    "pythonpwd123 = \"root\" #password for username\n",
    "database = \"testdb\" #database to connect to\n",
    "\n",
    "try:\n",
    "    con=mysql.connector.connect(host = localhost, user = pythonuser, password = pythonpwd123, database = database)\n",
    "    if con.is_connected():\n",
    "        db_info = con.get_server_info()\n",
    "        print(\"Connected to MySQL Server, version is\",db_info)\n",
    "        \n",
    "        #getting from database\n",
    "        \n",
    "        cur = con.cursor()\n",
    "        \n",
    "        cur.execute('SELECT id, employee_id, name, mobile FROM test_fleet WHERE city_id = 1')\n",
    "        Jarvis_record = cur.fetchall()\n",
    "        df = pd.DataFrame(Jarvis_record)\n",
    "        Jarvis=df.set_axis(['id', 'employee_id', 'name','mobile'], axis='columns')\n",
    "        \n",
    "        print(\"Converted db to Fleet_driver dataframe succesfully\")\n",
    "        \n",
    "        #Creating Connection for google sheet\n",
    "        \n",
    "        scope= ['https://spreadsheets.google.com/feeds','https://www.googleapis.com/auth/drive']\n",
    "        credentials= ServiceAccountCredentials.from_json_keyfile_name('client_secret.json', scope) \n",
    "        client= gspread.authorize(credentials)\n",
    "        \n",
    "        #pushing to sheets\n",
    "        \n",
    "        sheet= client.open_by_key('1xQlorzAmjDzKVLGalIzxWaC3LnwMPNPaZz6oLLWPQ6M')#Fleet_driver_2 jarvis is for testing but need to push in car master jarvis\n",
    "        ws= sheet.worksheet('Jarvis')\n",
    "        ws.clear()\n",
    "        ws.update([Jarvis.columns.values.tolist()] + Jarvis.values.tolist(),value_input_option='USER_ENTERED')\n",
    "        \n",
    "\n",
    "except Error as e:\n",
    "    print(\"Error while connecting\",e)\n",
    "    \n",
    "finally:\n",
    "    if con.is_connected():\n",
    "        cur.close()\n",
    "        con.close()\n",
    "        print(\"Connection is closed...\")"
   ]
  },
  {
   "cell_type": "code",
   "execution_count": 24,
   "id": "f96278ae",
   "metadata": {},
   "outputs": [
    {
     "data": {
      "text/html": [
       "<div>\n",
       "<style scoped>\n",
       "    .dataframe tbody tr th:only-of-type {\n",
       "        vertical-align: middle;\n",
       "    }\n",
       "\n",
       "    .dataframe tbody tr th {\n",
       "        vertical-align: top;\n",
       "    }\n",
       "\n",
       "    .dataframe thead th {\n",
       "        text-align: right;\n",
       "    }\n",
       "</style>\n",
       "<table border=\"1\" class=\"dataframe\">\n",
       "  <thead>\n",
       "    <tr style=\"text-align: right;\">\n",
       "      <th></th>\n",
       "      <th>id</th>\n",
       "      <th>employee_id</th>\n",
       "      <th>name</th>\n",
       "      <th>mobile</th>\n",
       "    </tr>\n",
       "  </thead>\n",
       "  <tbody>\n",
       "    <tr>\n",
       "      <th>0</th>\n",
       "      <td>1</td>\n",
       "      <td>ETM0001</td>\n",
       "      <td>AMIT</td>\n",
       "      <td>123456789</td>\n",
       "    </tr>\n",
       "    <tr>\n",
       "      <th>1</th>\n",
       "      <td>3</td>\n",
       "      <td>ETM0003</td>\n",
       "      <td>rohan</td>\n",
       "      <td>81818188</td>\n",
       "    </tr>\n",
       "  </tbody>\n",
       "</table>\n",
       "</div>"
      ],
      "text/plain": [
       "   id employee_id   name     mobile\n",
       "0   1     ETM0001   AMIT  123456789\n",
       "1   3     ETM0003  rohan   81818188"
      ]
     },
     "execution_count": 24,
     "metadata": {},
     "output_type": "execute_result"
    }
   ],
   "source": [
    "Jarvis"
   ]
  },
  {
   "cell_type": "code",
   "execution_count": null,
   "id": "3237fc5a",
   "metadata": {},
   "outputs": [],
   "source": [
    "pip install "
   ]
  }
 ],
 "metadata": {
  "kernelspec": {
   "display_name": "Python 3 (ipykernel)",
   "language": "python",
   "name": "python3"
  },
  "language_info": {
   "codemirror_mode": {
    "name": "ipython",
    "version": 3
   },
   "file_extension": ".py",
   "mimetype": "text/x-python",
   "name": "python",
   "nbconvert_exporter": "python",
   "pygments_lexer": "ipython3",
   "version": "3.9.7"
  }
 },
 "nbformat": 4,
 "nbformat_minor": 5
}
