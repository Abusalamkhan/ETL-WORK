{
 "cells": [
  {
   "cell_type": "code",
   "execution_count": 2,
   "id": "4803bc52",
   "metadata": {},
   "outputs": [],
   "source": [
    "# import smtplib\n",
    "# server=smtplib.SMTP('smtp.gmail.com',587)\n",
    "# server.starttls()\n",
    "# server.login('rutvijaeverestfleet@gmail.com','Rutviaj$94')\n",
    "# server.sendmail('rutvijaeverestfleet@gmail.com','abusalamblog2gmail.com','Some code fails')\n",
    "# print('mail sent')"
   ]
  },
  {
   "cell_type": "code",
   "execution_count": 4,
   "id": "ca20b98a",
   "metadata": {},
   "outputs": [
    {
     "name": "stdout",
     "output_type": "stream",
     "text": [
      "Collecting sendgrid"
     ]
    },
    {
     "name": "stderr",
     "output_type": "stream",
     "text": [
      "WARNING: Ignoring invalid distribution -ysql-connector-python (c:\\users\\sagar\\anaconda3\\lib\\site-packages)\n",
      "WARNING: Ignoring invalid distribution -ysql-connector-python (c:\\users\\sagar\\anaconda3\\lib\\site-packages)\n",
      "WARNING: Ignoring invalid distribution -ysql-connector-python (c:\\users\\sagar\\anaconda3\\lib\\site-packages)\n",
      "WARNING: Ignoring invalid distribution -ysql-connector-python (c:\\users\\sagar\\anaconda3\\lib\\site-packages)\n",
      "WARNING: Ignoring invalid distribution -ysql-connector-python (c:\\users\\sagar\\anaconda3\\lib\\site-packages)\n",
      "WARNING: Ignoring invalid distribution -ysql-connector-python (c:\\users\\sagar\\anaconda3\\lib\\site-packages)\n",
      "WARNING: Ignoring invalid distribution -ysql-connector-python (c:\\users\\sagar\\anaconda3\\lib\\site-packages)\n",
      "WARNING: Ignoring invalid distribution -ysql-connector-python (c:\\users\\sagar\\anaconda3\\lib\\site-packages)\n",
      "WARNING: Ignoring invalid distribution -ysql-connector-python (c:\\users\\sagar\\anaconda3\\lib\\site-packages)\n"
     ]
    },
    {
     "name": "stdout",
     "output_type": "stream",
     "text": [
      "\n",
      "  Downloading sendgrid-6.9.7-py3-none-any.whl (101 kB)\n",
      "Collecting starkbank-ecdsa>=2.0.1\n",
      "  Downloading starkbank-ecdsa-2.0.3.tar.gz (12 kB)\n",
      "Collecting python-http-client>=3.2.1\n",
      "  Downloading python_http_client-3.3.7-py3-none-any.whl (8.4 kB)\n",
      "Building wheels for collected packages: starkbank-ecdsa\n",
      "  Building wheel for starkbank-ecdsa (setup.py): started\n",
      "  Building wheel for starkbank-ecdsa (setup.py): finished with status 'done'\n",
      "  Created wheel for starkbank-ecdsa: filename=starkbank_ecdsa-2.0.3-py3-none-any.whl size=14230 sha256=bba93db338a2ace577f9dc214c9112da57acece934fc0e1d458061e81aa2a851\n",
      "  Stored in directory: c:\\users\\sagar\\appdata\\local\\pip\\cache\\wheels\\6e\\79\\72\\6e872654d3987335dcc23356cef0a751973a6ccc59857c876a\n",
      "Successfully built starkbank-ecdsa\n",
      "Installing collected packages: starkbank-ecdsa, python-http-client, sendgrid\n",
      "Successfully installed python-http-client-3.3.7 sendgrid-6.9.7 starkbank-ecdsa-2.0.3\n"
     ]
    }
   ],
   "source": [
    "!pip install sendgrid"
   ]
  },
  {
   "cell_type": "code",
   "execution_count": 6,
   "id": "32b5e5bc",
   "metadata": {},
   "outputs": [
    {
     "ename": "UnauthorizedError",
     "evalue": "HTTP Error 401: Unauthorized",
     "output_type": "error",
     "traceback": [
      "\u001b[1;31m---------------------------------------------------------------------------\u001b[0m",
      "\u001b[1;31mUnauthorizedError\u001b[0m                         Traceback (most recent call last)",
      "\u001b[1;32m~\\AppData\\Local\\Temp/ipykernel_13028/1013120160.py\u001b[0m in \u001b[0;36m<module>\u001b[1;34m\u001b[0m\n\u001b[0;32m     14\u001b[0m \u001b[1;33m\u001b[0m\u001b[0m\n\u001b[0;32m     15\u001b[0m \u001b[1;31m# Send an HTTP POST request to /mail/send\u001b[0m\u001b[1;33m\u001b[0m\u001b[1;33m\u001b[0m\u001b[0m\n\u001b[1;32m---> 16\u001b[1;33m \u001b[0mresponse\u001b[0m \u001b[1;33m=\u001b[0m \u001b[0msg\u001b[0m\u001b[1;33m.\u001b[0m\u001b[0mclient\u001b[0m\u001b[1;33m.\u001b[0m\u001b[0mmail\u001b[0m\u001b[1;33m.\u001b[0m\u001b[0msend\u001b[0m\u001b[1;33m.\u001b[0m\u001b[0mpost\u001b[0m\u001b[1;33m(\u001b[0m\u001b[0mrequest_body\u001b[0m\u001b[1;33m=\u001b[0m\u001b[0mmail_json\u001b[0m\u001b[1;33m)\u001b[0m\u001b[1;33m\u001b[0m\u001b[1;33m\u001b[0m\u001b[0m\n\u001b[0m\u001b[0;32m     17\u001b[0m \u001b[0mprint\u001b[0m\u001b[1;33m(\u001b[0m\u001b[0mresponse\u001b[0m\u001b[1;33m.\u001b[0m\u001b[0mstatus_code\u001b[0m\u001b[1;33m)\u001b[0m\u001b[1;33m\u001b[0m\u001b[1;33m\u001b[0m\u001b[0m\n\u001b[0;32m     18\u001b[0m \u001b[0mprint\u001b[0m\u001b[1;33m(\u001b[0m\u001b[0mresponse\u001b[0m\u001b[1;33m.\u001b[0m\u001b[0mheaders\u001b[0m\u001b[1;33m)\u001b[0m\u001b[1;33m\u001b[0m\u001b[1;33m\u001b[0m\u001b[0m\n",
      "\u001b[1;32m~\\anaconda3\\lib\\site-packages\\python_http_client\\client.py\u001b[0m in \u001b[0;36mhttp_request\u001b[1;34m(request_body, query_params, request_headers, timeout, **_)\u001b[0m\n\u001b[0;32m    275\u001b[0m \u001b[1;33m\u001b[0m\u001b[0m\n\u001b[0;32m    276\u001b[0m                 response = Response(\n\u001b[1;32m--> 277\u001b[1;33m                     \u001b[0mself\u001b[0m\u001b[1;33m.\u001b[0m\u001b[0m_make_request\u001b[0m\u001b[1;33m(\u001b[0m\u001b[0mopener\u001b[0m\u001b[1;33m,\u001b[0m \u001b[0mrequest\u001b[0m\u001b[1;33m,\u001b[0m \u001b[0mtimeout\u001b[0m\u001b[1;33m=\u001b[0m\u001b[0mtimeout\u001b[0m\u001b[1;33m)\u001b[0m\u001b[1;33m\u001b[0m\u001b[1;33m\u001b[0m\u001b[0m\n\u001b[0m\u001b[0;32m    278\u001b[0m                 )\n\u001b[0;32m    279\u001b[0m \u001b[1;33m\u001b[0m\u001b[0m\n",
      "\u001b[1;32m~\\anaconda3\\lib\\site-packages\\python_http_client\\client.py\u001b[0m in \u001b[0;36m_make_request\u001b[1;34m(self, opener, request, timeout)\u001b[0m\n\u001b[0;32m    182\u001b[0m                 \u001b[0mstatus\u001b[0m\u001b[1;33m=\u001b[0m\u001b[0mexc\u001b[0m\u001b[1;33m.\u001b[0m\u001b[0mstatus_code\u001b[0m\u001b[1;33m,\u001b[0m\u001b[1;33m\u001b[0m\u001b[1;33m\u001b[0m\u001b[0m\n\u001b[0;32m    183\u001b[0m                 body=exc.body))\n\u001b[1;32m--> 184\u001b[1;33m             \u001b[1;32mraise\u001b[0m \u001b[0mexc\u001b[0m\u001b[1;33m\u001b[0m\u001b[1;33m\u001b[0m\u001b[0m\n\u001b[0m\u001b[0;32m    185\u001b[0m \u001b[1;33m\u001b[0m\u001b[0m\n\u001b[0;32m    186\u001b[0m     \u001b[1;32mdef\u001b[0m \u001b[0m_\u001b[0m\u001b[1;33m(\u001b[0m\u001b[0mself\u001b[0m\u001b[1;33m,\u001b[0m \u001b[0mname\u001b[0m\u001b[1;33m)\u001b[0m\u001b[1;33m:\u001b[0m\u001b[1;33m\u001b[0m\u001b[1;33m\u001b[0m\u001b[0m\n",
      "\u001b[1;31mUnauthorizedError\u001b[0m: HTTP Error 401: Unauthorized"
     ]
    }
   ],
   "source": [
    "import sendgrid\n",
    "import os\n",
    "from sendgrid.helpers.mail import Mail, Email, To, Content\n",
    "\n",
    "sg = sendgrid.SendGridAPIClient(api_key=os.environ.get('SENDGRID_API_KEY'))\n",
    "from_email = Email(\"abusalameverestfleet@gmail.com\")  # Change to your verified sender\n",
    "to_email = To(\"rutvijaeverestfleet@gmail.com\")  # Change to your recipient\n",
    "subject = \"Error\"\n",
    "content = Content(\"text/plain\", \"and easy to do anywhere, even with Python\")\n",
    "mail = Mail(from_email, to_email, subject, content)\n",
    "\n",
    "# Get a JSON-ready representation of the Mail object\n",
    "mail_json = mail.get()\n",
    "\n",
    "# Send an HTTP POST request to /mail/send\n",
    "response = sg.client.mail.send.post(request_body=mail_json)\n",
    "print(response.status_code)\n",
    "print(response.headers)"
   ]
  },
  {
   "cell_type": "code",
   "execution_count": null,
   "id": "f088f9d0",
   "metadata": {},
   "outputs": [],
   "source": []
  },
  {
   "cell_type": "code",
   "execution_count": null,
   "id": "5dd6e392",
   "metadata": {},
   "outputs": [],
   "source": []
  },
  {
   "cell_type": "code",
   "execution_count": 8,
   "id": "138f5e5d",
   "metadata": {},
   "outputs": [],
   "source": [
    "# !pip install twilio"
   ]
  },
  {
   "cell_type": "code",
   "execution_count": 116,
   "id": "13abbe4c",
   "metadata": {},
   "outputs": [],
   "source": [
    "from twilio.rest import Client as c"
   ]
  },
  {
   "cell_type": "code",
   "execution_count": 7,
   "id": "f6b44e75",
   "metadata": {},
   "outputs": [
    {
     "name": "stdout",
     "output_type": "stream",
     "text": [
      "name 'x' is not defined testing\n",
      "name 'x' is not defined testing\n"
     ]
    }
   ],
   "source": [
    "from twilio.rest import Client as c\n",
    "try:\n",
    "    True==False\n",
    "    print(x)\n",
    "except Exception as e:\n",
    "    number=['+91 81084 16708','+91 96533 97180']\n",
    "    for to_number in number:\n",
    "        account_sid=\"AC3459ee86068c97f9cd2de30ad98146e4\"\n",
    "        auth_token=\"208bac357247abfae8b25d89406dc608\"\n",
    "        client=c(account_sid,auth_token)\n",
    "        from_number='+1 9705577507'\n",
    "        error=str(e)\n",
    "        error_message=error+\" testing\"        \n",
    "        client.messages.create(\n",
    "            body=error_message,\n",
    "            from_=from_number,\n",
    "            to=to_number)\n",
    "        print(e,\"testing\")"
   ]
  },
  {
   "cell_type": "code",
   "execution_count": 115,
   "id": "9faaa0e2",
   "metadata": {},
   "outputs": [
    {
     "ename": "NameError",
     "evalue": "name 'df' is not defined",
     "output_type": "error",
     "traceback": [
      "\u001b[1;31m---------------------------------------------------------------------------\u001b[0m",
      "\u001b[1;31mNameError\u001b[0m                                 Traceback (most recent call last)",
      "\u001b[1;32m~\\AppData\\Local\\Temp/ipykernel_23188/3521174100.py\u001b[0m in \u001b[0;36m<module>\u001b[1;34m\u001b[0m\n\u001b[0;32m      1\u001b[0m \u001b[1;31m# ,'+91 98200 66683'\u001b[0m\u001b[1;33m\u001b[0m\u001b[1;33m\u001b[0m\u001b[0m\n\u001b[1;32m----> 2\u001b[1;33m \u001b[0mdfs\u001b[0m\u001b[1;33m=\u001b[0m\u001b[0mdf\u001b[0m\u001b[1;33m[\u001b[0m\u001b[1;34m'x'\u001b[0m\u001b[1;33m]\u001b[0m\u001b[1;33m=\u001b[0m\u001b[1;34m'new'\u001b[0m\u001b[1;33m\u001b[0m\u001b[1;33m\u001b[0m\u001b[0m\n\u001b[0m\u001b[0;32m      3\u001b[0m \u001b[0mdfs\u001b[0m\u001b[1;33m\u001b[0m\u001b[1;33m\u001b[0m\u001b[0m\n",
      "\u001b[1;31mNameError\u001b[0m: name 'df' is not defined"
     ]
    }
   ],
   "source": [
    "# ,'+91 98200 66683'\n",
    "df=pd.D"
   ]
  },
  {
   "cell_type": "code",
   "execution_count": 96,
   "id": "c394f21f",
   "metadata": {},
   "outputs": [
    {
     "ename": "NameError",
     "evalue": "name 'some' is not defined",
     "output_type": "error",
     "traceback": [
      "\u001b[1;31m---------------------------------------------------------------------------\u001b[0m",
      "\u001b[1;31mNameError\u001b[0m                                 Traceback (most recent call last)",
      "\u001b[1;32m~\\AppData\\Local\\Temp/ipykernel_23188/1019641611.py\u001b[0m in \u001b[0;36m<module>\u001b[1;34m\u001b[0m\n\u001b[0;32m      1\u001b[0m \u001b[1;31m# ,'+91 98200 66683'\u001b[0m\u001b[1;33m\u001b[0m\u001b[1;33m\u001b[0m\u001b[0m\n\u001b[1;32m----> 2\u001b[1;33m \u001b[0me\u001b[0m\u001b[1;33m=\u001b[0m\u001b[0msome\u001b[0m\u001b[1;33m\u001b[0m\u001b[1;33m\u001b[0m\u001b[0m\n\u001b[0m\u001b[0;32m      3\u001b[0m \u001b[1;33m\u001b[0m\u001b[0m\n\u001b[0;32m      4\u001b[0m \u001b[0ma\u001b[0m\u001b[1;33m=\u001b[0m\u001b[0me\u001b[0m \u001b[1;33m+\u001b[0m \u001b[1;34m\" print\"\u001b[0m\u001b[1;33m\u001b[0m\u001b[1;33m\u001b[0m\u001b[0m\n\u001b[0;32m      5\u001b[0m \u001b[0ma\u001b[0m\u001b[1;33m\u001b[0m\u001b[1;33m\u001b[0m\u001b[0m\n",
      "\u001b[1;31mNameError\u001b[0m: name 'some' is not defined"
     ]
    }
   ],
   "source": [
    "# ,'+91 98200 66683'\n",
    "e=some\n",
    "\n",
    "a=e + \" print\"\n",
    "a"
   ]
  },
  {
   "cell_type": "code",
   "execution_count": null,
   "id": "c4220472",
   "metadata": {},
   "outputs": [],
   "source": []
  }
 ],
 "metadata": {
  "kernelspec": {
   "display_name": "Python 3 (ipykernel)",
   "language": "python",
   "name": "python3"
  },
  "language_info": {
   "codemirror_mode": {
    "name": "ipython",
    "version": 3
   },
   "file_extension": ".py",
   "mimetype": "text/x-python",
   "name": "python",
   "nbconvert_exporter": "python",
   "pygments_lexer": "ipython3",
   "version": "3.9.7"
  }
 },
 "nbformat": 4,
 "nbformat_minor": 5
}
