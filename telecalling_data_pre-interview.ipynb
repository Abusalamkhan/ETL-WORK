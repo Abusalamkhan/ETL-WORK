{
 "cells": [
  {
   "cell_type": "code",
   "execution_count": 2,
   "id": "60794ecc",
   "metadata": {},
   "outputs": [],
   "source": [
    "import os,sys;sys.path.append(os.path.dirname(os.path.realpath('mail')))\n",
    "from mail.send_mail import sendMail\n",
    "import pandas as pd\n",
    "import pygsheets \n",
    "\n",
    "try:\n",
    "    clients = pygsheets.authorize(service_file='/home/karan/config/operation.json')\n",
    "    Master_Pre_Interview_sheet= clients.open_by_key(\"1s-Nm_i1CNoJxGStDXaqEvKshAESE6kLC7ajpPOC9edU\")\n",
    "    in_progress_calling_tab = Master_Pre_Interview_sheet.worksheet_by_title(\"In Progress Calling\")\n",
    "    Master_Pre_Interview_sheet_data = pd.DataFrame(in_progress_calling_tab.get_all_records())\n",
    "    Master_Pre_Interview_sheet_data=Master_Pre_Interview_sheet_data[Master_Pre_Interview_sheet_data['Date Added']!='']\n",
    "    telecalling_pre_interview_sheet= clients.open_by_key(\"1V6NIVnSg1P0ZsBeLd9R8lVp8D_GB1tjbiPGKD9OW3wY\")\n",
    "    master_tab= telecalling_pre_interview_sheet.worksheet_by_title('Master')\n",
    "    master_tab.clear(start='A',end='O')\n",
    "    master_tab.set_dataframe(Master_Pre_Interview_sheet_data,(1,1))\n",
    "    print(\"Telecalling Pre-Interview master tab updated\")\n",
    "except Exception:\n",
    "    sendMail([\n",
    "    'abusalameverestfleet@gmail.com',\n",
    "    'avinash.everestfleet@gmail.com',\n",
    "    'rutvijaeverestfleet@gmail.com',\n",
    "    'sameer.everestfleet@gmail.com',\n",
    "    'Karan.saraogi@everestfleet.com',\n",
    "    'vijugode@gmail.com'\n",
    "    ])"
   ]
  },
  {
   "cell_type": "code",
   "execution_count": 4,
   "id": "ebe5cbeb",
   "metadata": {},
   "outputs": [
    {
     "name": "stdout",
     "output_type": "stream",
     "text": [
      "Telecalling Pre-Interview master tab updated\n"
     ]
    }
   ],
   "source": [
    "import pandas as pd\n",
    "import pygsheets \n",
    "clients = pygsheets.authorize(service_file='car-master-sheet.json')\n",
    "Master_Pre_Interview_sheet= clients.open_by_key(\"1s-Nm_i1CNoJxGStDXaqEvKshAESE6kLC7ajpPOC9edU\")\n",
    "in_progress_calling_tab = Master_Pre_Interview_sheet.worksheet_by_title(\"In Progress Calling\")\n",
    "Master_Pre_Interview_sheet_data = pd.DataFrame(in_progress_calling_tab.get_all_records())\n",
    "Master_Pre_Interview_sheet_data=Master_Pre_Interview_sheet_data[Master_Pre_Interview_sheet_data['Date Added']!='']\n",
    "telecalling_pre_interview_sheet= clients.open_by_key(\"1V6NIVnSg1P0ZsBeLd9R8lVp8D_GB1tjbiPGKD9OW3wY\")\n",
    "master_tab= telecalling_pre_interview_sheet.worksheet_by_title('Master')\n",
    "master_tab.clear(start='A',end='O')\n",
    "master_tab.set_dataframe(Master_Pre_Interview_sheet_data,(1,1))\n",
    "print(\"Telecalling Pre-Interview master tab updated\")"
   ]
  },
  {
   "cell_type": "code",
   "execution_count": null,
   "id": "1bf6a08f",
   "metadata": {},
   "outputs": [],
   "source": []
  }
 ],
 "metadata": {
  "kernelspec": {
   "display_name": "Python 3 (ipykernel)",
   "language": "python",
   "name": "python3"
  },
  "language_info": {
   "codemirror_mode": {
    "name": "ipython",
    "version": 3
   },
   "file_extension": ".py",
   "mimetype": "text/x-python",
   "name": "python",
   "nbconvert_exporter": "python",
   "pygments_lexer": "ipython3",
   "version": "3.9.7"
  }
 },
 "nbformat": 4,
 "nbformat_minor": 5
}
