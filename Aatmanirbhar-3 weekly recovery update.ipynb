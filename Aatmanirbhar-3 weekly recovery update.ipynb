{
 "cells": [
  {
   "cell_type": "code",
   "execution_count": 1,
   "id": "b4bbf78e",
   "metadata": {},
   "outputs": [
    {
     "name": "stdout",
     "output_type": "stream",
     "text": [
      "Mumbai-Weekly recovery update updated succesfully\n",
      "Pune-Weekly recovery update updated succesfully\n"
     ]
    }
   ],
   "source": [
    "# #importing libraries\n",
    "\n",
    "# import pandas as pd\n",
    "# import datetime\n",
    "# from datetime import date, timedelta\n",
    "# import gspread\n",
    "# from oauth2client.service_account import ServiceAccountCredentials\n",
    "# import warnings\n",
    "# from twilio.rest import Client as c\n",
    "# warnings.filterwarnings(\"ignore\")\n",
    "\n",
    "# #creating connections\n",
    "\n",
    "# scope= ['https://spreadsheets.google.com/feeds','https://www.googleapis.com/auth/drive']\n",
    "# credentials= ServiceAccountCredentials.from_json_keyfile_name('client_secret.json', scope) \n",
    "# client= gspread.authorize(credentials)\n",
    "\n",
    "# aatmanirbhar_pune='1-wFeo4oUvXUasGZNw1LN3V-FSOFbOy2j0xIjLIIB1LE'\n",
    "\n",
    "# try:\n",
    "#     today = datetime.date.today()\n",
    "#     timestmp = today.strftime(\"%Y-%m-%d\")\n",
    "#     wru_clear_time=timestmp+' 10'\n",
    "#     today_timestmp = datetime.datetime.now().strftime(\"%Y-%m-%d %H\")\n",
    "\n",
    "#     if wru_clear_time==today_timestmp:\n",
    "#         sheet= client.open_by_key('1j9hmPHNmfjJp7nn4p8EVq8aciL8NfiO3hYWdf28aDzQ')#Recovery Sheet-New\n",
    "#         ws= sheet.worksheet('Masterview')\n",
    "#         data = ws.get_all_values()\n",
    "#         headers = data.pop(0)\n",
    "#         dfm = pd.DataFrame(data,columns=headers)\n",
    "#         df=dfm.iloc[:,[1,2,3,4,7,8,12,10]]\n",
    "#         df1w=df.loc[df['Collection of Purpose'].isin(['Mumbai 60:40 Recovery','Mumbai 60: 40 Joining Fees'])]\n",
    "#         sheet= client.open('Aatmanirbhar -3')\n",
    "#         ws= sheet.worksheet('WRU')\n",
    "#         ws.batch_clear(['A:H'])\n",
    "#         ws.update([df1w.columns.values.tolist()] + df1w.values.tolist(),value_input_option='USER_ENTERED')\n",
    "#         print(\"Mumbai-Weekly recovery update updated succesfully\")\n",
    "\n",
    "#         sheet= client.open_by_key('1j9hmPHNmfjJp7nn4p8EVq8aciL8NfiO3hYWdf28aDzQ')#Recovery Sheet-New\n",
    "#         ws= sheet.worksheet('Masterview')\n",
    "#         data = ws.get_all_values()\n",
    "#         headers = data.pop(0)\n",
    "#         dfm = pd.DataFrame(data,columns=headers)\n",
    "#         df=dfm.iloc[:,[1,2,3,4,7,8,12,10]]\n",
    "#         df1w=df.loc[df['Collection of Purpose'].isin(['Pune 60:40 Recovery','Pune 60: 40 Joining Fees'])]\n",
    "#         sheet= client.open_by_key(aatmanirbhar_pune)\n",
    "#         ws= sheet.worksheet('WRU')\n",
    "#         ws.batch_clear(['A:H'])\n",
    "#         ws.update([df1w.columns.values.tolist()] + df1w.values.tolist(),value_input_option='USER_ENTERED')\n",
    "#         print(\"Pune-Weekly recovery update updated succesfully\")\n",
    "#     else:\n",
    "#         sheet= client.open_by_key('1j9hmPHNmfjJp7nn4p8EVq8aciL8NfiO3hYWdf28aDzQ')#Recovery Sheet-New\n",
    "#         ws= sheet.worksheet('Masterview')\n",
    "#         data = ws.get_all_values()\n",
    "#         headers = data.pop(0)\n",
    "#         dfm = pd.DataFrame(data,columns=headers)\n",
    "#         df=dfm.iloc[:,[1,2,3,4,7,8,12,10]]\n",
    "#         df1w=df.loc[df['Collection of Purpose'].isin(['Mumbai 60:40 Recovery','Mumbai 60: 40 Joining Fees'])]\n",
    "#         sheet= client.open('Aatmanirbhar -3')\n",
    "#         ws= sheet.worksheet('WRU')\n",
    "#         ws.update([df1w.columns.values.tolist()] + df1w.values.tolist(),value_input_option='USER_ENTERED')\n",
    "#         print(\"Mumbai-Weekly recovery update updated succesfully\")\n",
    "\n",
    "#         sheet= client.open_by_key('1j9hmPHNmfjJp7nn4p8EVq8aciL8NfiO3hYWdf28aDzQ')#Recovery Sheet-New\n",
    "#         ws= sheet.worksheet('Masterview')\n",
    "#         data = ws.get_all_values()\n",
    "#         headers = data.pop(0)\n",
    "#         dfm = pd.DataFrame(data,columns=headers)\n",
    "#         df=dfm.iloc[:,[1,2,3,4,7,8,12,10]]\n",
    "#         df1w=df.loc[df['Collection of Purpose'].isin(['Pune 60:40 Recovery','Pune 60: 40 Joining Fees'])]\n",
    "#         sheet= client.open_by_key(aatmanirbhar_pune)\n",
    "#         ws= sheet.worksheet('WRU')\n",
    "#         ws.update([df1w.columns.values.tolist()] + df1w.values.tolist(),value_input_option='USER_ENTERED')\n",
    "#         print(\"Pune-Weekly recovery update updated succesfully\")\n",
    "\n",
    "# except Exception as e:\n",
    "#     number=['+91 81084 16708','+91 98200 66683']\n",
    "#     for to_number in number:\n",
    "#         account_sid=\"AC3459ee86068c97f9cd2de30ad98146e4\"\n",
    "#         auth_token=\"208bac357247abfae8b25d89406dc608\"\n",
    "#         client=c(account_sid,auth_token)\n",
    "#         from_number='+1 9705577507'\n",
    "#         error=str(e)\n",
    "#         error_message=error+\" error in your Weekly recovery update code\"        \n",
    "#         client.messages.create(\n",
    "#             body=error_message,\n",
    "#             from_=from_number,\n",
    "#             to=to_number)\n",
    "#         print(e,\"error in your Weekly recovery update code\")"
   ]
  },
  {
   "cell_type": "code",
   "execution_count": 1,
   "id": "e1fe14c9",
   "metadata": {},
   "outputs": [],
   "source": []
  },
  {
   "cell_type": "code",
   "execution_count": 4,
   "id": "a5e22e11",
   "metadata": {},
   "outputs": [
    {
     "name": "stdout",
     "output_type": "stream",
     "text": [
      "Mumbai-Weekly recovery update updated succesfully\n",
      "Pune-Weekly recovery update updated succesfully\n"
     ]
    }
   ],
   "source": [
    "#importing libraries\n",
    "import os,sys;sys.path.append(os.path.dirname(os.path.realpath('mail')))\n",
    "from mail.send_mail import sendMail\n",
    "import pygsheets\n",
    "import pandas as pd\n",
    "import datetime\n",
    "from datetime import date, timedelta\n",
    "import warnings\n",
    "warnings.filterwarnings(\"ignore\")\n",
    "\n",
    "clients = pygsheets.authorize(service_file='client_secret.json')\n",
    "recovery_sheet_new='1j9hmPHNmfjJp7nn4p8EVq8aciL8NfiO3hYWdf28aDzQ'\n",
    "atmanirbhar_mumbai='1cC9dKh4tvSHQuL5ncSJgxD79IyeYlVYwSx-mU1Hz3fI'\n",
    "aatmanirbhar_pune='1-wFeo4oUvXUasGZNw1LN3V-FSOFbOy2j0xIjLIIB1LE'\n",
    "try:\n",
    "    today = datetime.date.today()\n",
    "    timestmp = today.strftime(\"%Y-%m-%d\")\n",
    "    wru_clear_time=timestmp+' 10'\n",
    "    today_timestmp = datetime.datetime.now().strftime(\"%Y-%m-%d %H\")\n",
    "\n",
    "    if wru_clear_time==today_timestmp:\n",
    "        sheet= clients.open_by_key(recovery_sheet_new)\n",
    "        ws= sheet.worksheet_by_title('Masterview')\n",
    "        data = ws.get_all_values()\n",
    "        headers = data.pop(0)\n",
    "        dfm = pd.DataFrame(data,columns=headers)\n",
    "        df=dfm.iloc[:,[1,2,3,4,7,8,12,10]]\n",
    "        df1w=df.loc[df['Collection of Purpose'].isin(['Mumbai 60:40 Recovery','Mumbai 60: 40 Joining Fees'])]\n",
    "        sheet= clients.open_by_key(atmanirbhar_mumbai)\n",
    "        ws= sheet.worksheet_by_title('WRU')\n",
    "        ws.clear(start='A',end='H')\n",
    "        ws.set_dataframe(df1w,(1,1))\n",
    "        print(\"Mumbai-Weekly recovery update updated succesfully\")\n",
    "\n",
    "        sheet= clients.open_by_key(recovery_sheet_new)\n",
    "        ws= sheet.worksheet_by_title('Masterview')\n",
    "        data = ws.get_all_values()\n",
    "        headers = data.pop(0)\n",
    "        dfm = pd.DataFrame(data,columns=headers)\n",
    "        df=dfm.iloc[:,[1,2,3,4,7,8,12,10]]\n",
    "        df1w=df.loc[df['Collection of Purpose'].isin(['Pune 60:40 Recovery','Pune 60: 40 Joining Fees'])]\n",
    "        sheet= clients.open_by_key(aatmanirbhar_pune)\n",
    "        ws= sheet.worksheet_by_title('WRU')\n",
    "        ws.clear(start='A',end='H')\n",
    "        ws.set_dataframe(df1w,(1,1))\n",
    "        print(\"Pune-Weekly recovery update updated succesfully\")\n",
    "    else:\n",
    "        sheet= clients.open_by_key(recovery_sheet_new)\n",
    "        ws= sheet.worksheet_by_title('Masterview')\n",
    "        data = ws.get_all_values()\n",
    "        headers = data.pop(0)\n",
    "        dfm = pd.DataFrame(data,columns=headers)\n",
    "        df=dfm.iloc[:,[1,2,3,4,7,8,12,10]]\n",
    "        df1w=df.loc[df['Collection of Purpose'].isin(['Mumbai 60:40 Recovery','Mumbai 60: 40 Joining Fees'])]\n",
    "        sheet= clients.open_by_key(atmanirbhar_mumbai)\n",
    "        ws= sheet.worksheet_by_title('WRU')\n",
    "        ws.set_dataframe(df1w,(1,1))\n",
    "        print(\"Mumbai-Weekly recovery update updated succesfully\")\n",
    "\n",
    "        sheet= clients.open_by_key(recovery_sheet_new)\n",
    "        ws= sheet.worksheet_by_title('Masterview')\n",
    "        data = ws.get_all_values()\n",
    "        headers = data.pop(0)\n",
    "        dfm = pd.DataFrame(data,columns=headers)\n",
    "        df=dfm.iloc[:,[1,2,3,4,7,8,12,10]]\n",
    "        df1w=df.loc[df['Collection of Purpose'].isin(['Pune 60:40 Recovery','Pune 60: 40 Joining Fees'])]\n",
    "        sheet= clients.open_by_key(aatmanirbhar_pune)\n",
    "        ws= sheet.worksheet_by_title('WRU')\n",
    "        ws.set_dataframe(df1w,(1,1))\n",
    "        print(\"Pune-Weekly recovery update updated succesfully\")\n",
    "        \n",
    "except Exception:\n",
    "    sendMail([\n",
    "    \"abusalameverestfleet@gmail.com\",\n",
    "    \"avinash.everestfleet@gmail.com\",\n",
    "    \"rutvijaevrestfleet@gmail.com\",\n",
    "    \"sameer.everestfleet@gmail.com\",\n",
    "    \"Karan.saraogi@everestfleet.com\",\n",
    "    ])"
   ]
  },
  {
   "cell_type": "code",
   "execution_count": 10,
   "id": "adec98f5",
   "metadata": {},
   "outputs": [
    {
     "name": "stdout",
     "output_type": "stream",
     "text": [
      "2022-08-11 10\n",
      "2022-08-11 20\n",
      "False\n"
     ]
    }
   ],
   "source": [
    "\n",
    "today = datetime.date.today()\n",
    "timestmp = today.strftime(\"%Y-%m-%d\")\n",
    "wru_clear_time=timestmp+' 10'\n",
    "print(wru_clear_time)\n",
    "today_timestmp = datetime.datetime.now().strftime(\"%Y-%m-%d %H\")\n",
    "print(today_timestmp)\n",
    "\n",
    "if wru_clear_time==today_timestmp:\n",
    "    print(True)\n",
    "else:\n",
    "    print(False)\n",
    "    "
   ]
  },
  {
   "cell_type": "code",
   "execution_count": 4,
   "id": "c89d5bf3",
   "metadata": {},
   "outputs": [
    {
     "name": "stdout",
     "output_type": "stream",
     "text": [
      "Pune-Weekly recovery update updated succesfully\n"
     ]
    }
   ],
   "source": [
    "import pygsheets\n",
    "import pandas as pd\n",
    "import datetime\n",
    "from datetime import date, timedelta\n",
    "import warnings\n",
    "warnings.filterwarnings(\"ignore\")\n",
    "clients = pygsheets.authorize(service_file='client_secret.json')\n",
    "recovery_sheet_new='1j9hmPHNmfjJp7nn4p8EVq8aciL8NfiO3hYWdf28aDzQ'\n",
    "atmanirbhar_mumbai='1cC9dKh4tvSHQuL5ncSJgxD79IyeYlVYwSx-mU1Hz3fI'\n",
    "aatmanirbhar_pune='1-wFeo4oUvXUasGZNw1LN3V-FSOFbOy2j0xIjLIIB1LE'\n",
    "sheet= clients.open_by_key(recovery_sheet_new)\n",
    "ws= sheet.worksheet_by_title('Masterview')\n",
    "data = ws.get_all_values()\n",
    "headers = data.pop(0)\n",
    "dfm = pd.DataFrame(data,columns=headers)\n",
    "df=dfm.iloc[:,[1,2,3,4,7,8,12,10]]\n",
    "df1w=df.loc[df['Collection of Purpose'].isin(['Pune 60:40 Recovery','Pune 60: 40 Joining Fees'])]\n",
    "sheet= clients.open_by_key(aatmanirbhar_pune)\n",
    "ws= sheet.worksheet_by_title('WRU')\n",
    "ws.set_dataframe(df1w,(1,1))\n",
    "print(\"Pune-Weekly recovery update updated succesfully\")"
   ]
  },
  {
   "cell_type": "code",
   "execution_count": 3,
   "id": "edbae688",
   "metadata": {},
   "outputs": [
    {
     "data": {
      "text/plain": [
       "(17, 8)"
      ]
     },
     "execution_count": 3,
     "metadata": {},
     "output_type": "execute_result"
    }
   ],
   "source": [
    "df1w.shape"
   ]
  },
  {
   "cell_type": "code",
   "execution_count": 2,
   "id": "5c6dffd3",
   "metadata": {},
   "outputs": [
    {
     "name": "stdout",
     "output_type": "stream",
     "text": [
      "Mumbai-Weekly recovery update updated succesfully\n",
      "Pune-Weekly recovery update updated succesfully\n"
     ]
    }
   ],
   "source": [
    "#importing libraries\n",
    "\n",
    "import pandas as pd\n",
    "import datetime\n",
    "from datetime import date, timedelta\n",
    "import gspread\n",
    "from oauth2client.service_account import ServiceAccountCredentials\n",
    "import warnings\n",
    "from twilio.rest import Client as c\n",
    "warnings.filterwarnings(\"ignore\")\n",
    "\n",
    "#creating connections\n",
    "\n",
    "scope= ['https://spreadsheets.google.com/feeds','https://www.googleapis.com/auth/drive']\n",
    "credentials= ServiceAccountCredentials.from_json_keyfile_name('client_secret.json', scope) \n",
    "client= gspread.authorize(credentials)\n",
    "\n",
    "aatmanirbhar_pune='1-wFeo4oUvXUasGZNw1LN3V-FSOFbOy2j0xIjLIIB1LE'\n",
    "\n",
    "sheet= client.open_by_key('1j9hmPHNmfjJp7nn4p8EVq8aciL8NfiO3hYWdf28aDzQ')#Recovery Sheet-New\n",
    "ws= sheet.worksheet('Masterview')\n",
    "data = ws.get_all_values()\n",
    "headers = data.pop(0)\n",
    "dfm = pd.DataFrame(data,columns=headers)\n",
    "df=dfm.iloc[:,[1,2,3,4,7,8,12,10]]\n",
    "df1w=df.loc[df['Collection of Purpose'].isin(['Mumbai 60:40 Recovery','Mumbai 60: 40 Joining Fees'])]\n",
    "\n",
    "# sheet= client.open('Aatmanirbhar -3')\n",
    "# ws= sheet.worksheet('WRU')\n",
    "# ws.batch_clear(['A:H'])\n",
    "# ws.update([df1w.columns.values.tolist()] + df1w.values.tolist(),value_input_option='USER_ENTERED')\n",
    "# print(\"Mumbai-Weekly recovery update updated succesfully\")\n",
    "\n",
    "# sheet= client.open_by_key('1j9hmPHNmfjJp7nn4p8EVq8aciL8NfiO3hYWdf28aDzQ')#Recovery Sheet-New\n",
    "# ws= sheet.worksheet('Masterview')\n",
    "# data = ws.get_all_values()\n",
    "# headers = data.pop(0)\n",
    "# dfm = pd.DataFrame(data,columns=headers)\n",
    "# df=dfm.iloc[:,[1,2,3,4,7,8,12,10]]\n",
    "# df1w=df.loc[df['Collection of Purpose'].isin(['Pune 60:40 Recovery','Pune 60: 40 Joining Fees'])]\n",
    "# sheet= client.open_by_key(aatmanirbhar_pune)\n",
    "# ws= sheet.worksheet('WRU')\n",
    "# ws.batch_clear(['A:H'])\n",
    "# ws.update([df1w.columns.values.tolist()] + df1w.values.tolist(),value_input_option='USER_ENTERED')\n",
    "# print(\"Pune-Weekly recovery update updated succesfully\")"
   ]
  },
  {
   "cell_type": "code",
   "execution_count": null,
   "id": "42f35e79",
   "metadata": {},
   "outputs": [],
   "source": []
  },
  {
   "cell_type": "code",
   "execution_count": 38,
   "id": "de434f5c",
   "metadata": {},
   "outputs": [
    {
     "ename": "AttributeError",
     "evalue": "'method_descriptor' object has no attribute 'today'",
     "output_type": "error",
     "traceback": [
      "\u001b[1;31m---------------------------------------------------------------------------\u001b[0m",
      "\u001b[1;31mAttributeError\u001b[0m                            Traceback (most recent call last)",
      "\u001b[1;32m~\\AppData\\Local\\Temp/ipykernel_25760/1919561207.py\u001b[0m in \u001b[0;36m<module>\u001b[1;34m\u001b[0m\n\u001b[1;32m----> 1\u001b[1;33m \u001b[0mtoday\u001b[0m \u001b[1;33m=\u001b[0m \u001b[0mdatetime\u001b[0m\u001b[1;33m.\u001b[0m\u001b[0mdate\u001b[0m\u001b[1;33m.\u001b[0m\u001b[0mtoday\u001b[0m\u001b[1;33m(\u001b[0m\u001b[1;33m)\u001b[0m\u001b[1;33m\u001b[0m\u001b[1;33m\u001b[0m\u001b[0m\n\u001b[0m\u001b[0;32m      2\u001b[0m \u001b[0mt\u001b[0m \u001b[1;33m=\u001b[0m \u001b[0mdatetime\u001b[0m\u001b[1;33m.\u001b[0m\u001b[0mtime\u001b[0m\u001b[1;33m(\u001b[0m\u001b[0mhour\u001b[0m\u001b[1;33m=\u001b[0m\u001b[1;36m10\u001b[0m\u001b[1;33m,\u001b[0m \u001b[0mminute\u001b[0m\u001b[1;33m=\u001b[0m\u001b[1;36m00\u001b[0m\u001b[1;33m)\u001b[0m\u001b[1;33m\u001b[0m\u001b[1;33m\u001b[0m\u001b[0m\n\u001b[0;32m      3\u001b[0m \u001b[0mprint\u001b[0m\u001b[1;33m(\u001b[0m\u001b[0mdatetime\u001b[0m\u001b[1;33m.\u001b[0m\u001b[0mdatetime\u001b[0m\u001b[1;33m.\u001b[0m\u001b[0mcombine\u001b[0m\u001b[1;33m(\u001b[0m\u001b[0mtoday\u001b[0m\u001b[1;33m,\u001b[0m \u001b[0mt\u001b[0m\u001b[1;33m)\u001b[0m\u001b[1;33m)\u001b[0m\u001b[1;33m\u001b[0m\u001b[1;33m\u001b[0m\u001b[0m\n",
      "\u001b[1;31mAttributeError\u001b[0m: 'method_descriptor' object has no attribute 'today'"
     ]
    }
   ],
   "source": [
    "# today = datetime.date.today()\n",
    "# t = datetime.time(hour=10, minute=00)\n",
    "# print(datetime.datetime.combine(today, t))\n"
   ]
  },
  {
   "cell_type": "code",
   "execution_count": 52,
   "id": "ee7b9f79",
   "metadata": {},
   "outputs": [
    {
     "ename": "AttributeError",
     "evalue": "module 'datetime' has no attribute 'now'",
     "output_type": "error",
     "traceback": [
      "\u001b[1;31m---------------------------------------------------------------------------\u001b[0m",
      "\u001b[1;31mAttributeError\u001b[0m                            Traceback (most recent call last)",
      "\u001b[1;32m~\\AppData\\Local\\Temp/ipykernel_25760/819179889.py\u001b[0m in \u001b[0;36m<module>\u001b[1;34m\u001b[0m\n\u001b[1;32m----> 1\u001b[1;33m \u001b[0mnow_1\u001b[0m \u001b[1;33m=\u001b[0m \u001b[0mdatetime\u001b[0m\u001b[1;33m.\u001b[0m\u001b[0mnow\u001b[0m\u001b[1;33m(\u001b[0m\u001b[1;33m)\u001b[0m\u001b[1;33m.\u001b[0m\u001b[0mtime\u001b[0m\u001b[1;33m(\u001b[0m\u001b[1;33m)\u001b[0m\u001b[1;33m\u001b[0m\u001b[1;33m\u001b[0m\u001b[0m\n\u001b[0m\u001b[0;32m      2\u001b[0m \u001b[1;33m\u001b[0m\u001b[0m\n\u001b[0;32m      3\u001b[0m \u001b[0mA\u001b[0m \u001b[1;33m=\u001b[0m \u001b[1;33m(\u001b[0m\u001b[0mtime\u001b[0m\u001b[1;33m(\u001b[0m\u001b[1;36m9\u001b[0m\u001b[1;33m,\u001b[0m \u001b[1;36m0\u001b[0m\u001b[1;33m)\u001b[0m\u001b[1;33m,\u001b[0m \u001b[0mtime\u001b[0m\u001b[1;33m(\u001b[0m\u001b[1;36m11\u001b[0m\u001b[1;33m,\u001b[0m \u001b[1;36m0\u001b[0m\u001b[1;33m)\u001b[0m\u001b[1;33m)\u001b[0m\u001b[1;33m\u001b[0m\u001b[1;33m\u001b[0m\u001b[0m\n\u001b[0;32m      4\u001b[0m \u001b[0mB\u001b[0m \u001b[1;33m=\u001b[0m \u001b[1;33m(\u001b[0m\u001b[0mtime\u001b[0m\u001b[1;33m(\u001b[0m\u001b[1;36m13\u001b[0m\u001b[1;33m,\u001b[0m \u001b[1;36m0\u001b[0m\u001b[1;33m)\u001b[0m\u001b[1;33m,\u001b[0m \u001b[0mtime\u001b[0m\u001b[1;33m(\u001b[0m\u001b[1;36m15\u001b[0m\u001b[1;33m,\u001b[0m \u001b[1;36m0\u001b[0m\u001b[1;33m)\u001b[0m\u001b[1;33m)\u001b[0m\u001b[1;33m\u001b[0m\u001b[1;33m\u001b[0m\u001b[0m\n\u001b[0;32m      5\u001b[0m \u001b[0mC\u001b[0m \u001b[1;33m=\u001b[0m \u001b[1;33m(\u001b[0m\u001b[0mtime\u001b[0m\u001b[1;33m(\u001b[0m\u001b[1;36m22\u001b[0m\u001b[1;33m,\u001b[0m \u001b[1;36m0\u001b[0m\u001b[1;33m)\u001b[0m\u001b[1;33m,\u001b[0m \u001b[0mtime\u001b[0m\u001b[1;33m(\u001b[0m\u001b[1;36m23\u001b[0m\u001b[1;33m,\u001b[0m \u001b[1;36m0\u001b[0m\u001b[1;33m)\u001b[0m\u001b[1;33m)\u001b[0m\u001b[1;33m\u001b[0m\u001b[1;33m\u001b[0m\u001b[0m\n",
      "\u001b[1;31mAttributeError\u001b[0m: module 'datetime' has no attribute 'now'"
     ]
    }
   ],
   "source": []
  },
  {
   "cell_type": "code",
   "execution_count": null,
   "id": "8b3a6b0d",
   "metadata": {},
   "outputs": [],
   "source": []
  },
  {
   "cell_type": "code",
   "execution_count": 2,
   "id": "fe63feba",
   "metadata": {},
   "outputs": [],
   "source": [
    "# a=df1w.iloc[10:50]\n",
    "# a"
   ]
  },
  {
   "cell_type": "code",
   "execution_count": null,
   "id": "4790904e",
   "metadata": {},
   "outputs": [],
   "source": []
  },
  {
   "cell_type": "code",
   "execution_count": 3,
   "id": "34525a00",
   "metadata": {},
   "outputs": [
    {
     "name": "stdout",
     "output_type": "stream",
     "text": [
      "Pune-Weekly recovery update updated succesfully\n"
     ]
    }
   ],
   "source": [
    "sheet= client.open_by_key('1j9hmPHNmfjJp7nn4p8EVq8aciL8NfiO3hYWdf28aDzQ')#Recovery Sheet-New\n",
    "ws= sheet.worksheet('Masterview')\n",
    "data = ws.get_all_values()\n",
    "headers = data.pop(0)\n",
    "dfm = pd.DataFrame(data,columns=headers)\n",
    "df=dfm.iloc[:,[1,2,3,4,7,8,12,10]]\n",
    "df1w=df.loc[df['Collection of Purpose'].isin(['Pune 60:40 Recovery','Pune 60: 40 Joining Fees'])]\n",
    "sheet= client.open_by_key(aatmanirbhar_pune)\n",
    "ws= sheet.worksheet('WRU')\n",
    "ws.batch_clear(['A:H'])\n",
    "ws.update([df1w.columns.values.tolist()] + df1w.values.tolist(),value_input_option='USER_ENTERED')\n",
    "print(\"Pune-Weekly recovery update updated succesfully\")"
   ]
  },
  {
   "cell_type": "code",
   "execution_count": null,
   "id": "68bcc8ad",
   "metadata": {},
   "outputs": [],
   "source": []
  }
 ],
 "metadata": {
  "kernelspec": {
   "display_name": "Python 3 (ipykernel)",
   "language": "python",
   "name": "python3"
  },
  "language_info": {
   "codemirror_mode": {
    "name": "ipython",
    "version": 3
   },
   "file_extension": ".py",
   "mimetype": "text/x-python",
   "name": "python",
   "nbconvert_exporter": "python",
   "pygments_lexer": "ipython3",
   "version": "3.9.7"
  },
  "vscode": {
   "interpreter": {
    "hash": "0d36738efb02b46f2291bc18f32076806b70360f2bce5d987cd2b90be755e1b9"
   }
  }
 },
 "nbformat": 4,
 "nbformat_minor": 5
}
