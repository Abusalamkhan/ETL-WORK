{
 "cells": [
  {
   "cell_type": "markdown",
   "id": "49ba8d30",
   "metadata": {},
   "source": [
    "# Gspread and pygsheets"
   ]
  },
  {
   "cell_type": "code",
   "execution_count": 1,
   "id": "bc09fe76",
   "metadata": {},
   "outputs": [
    {
     "name": "stdout",
     "output_type": "stream",
     "text": [
      "Pratik\n",
      "Sagar\n",
      "Makarand\n",
      "Shubham\n",
      "Rohan\n",
      "Sachin\n",
      "RazorPay\n",
      "Paytm\n",
      "BankTransferred\n",
      "Akash Sonavane\n",
      "Mithun\n",
      "Pankesh\n"
     ]
    }
   ],
   "source": [
    "#importing libraries\n",
    "\n",
    "import pandas as pd\n",
    "import datetime\n",
    "from datetime import date, timedelta\n",
    "import gspread\n",
    "import pygsheets\n",
    "from oauth2client.service_account import ServiceAccountCredentials\n",
    "import warnings\n",
    "warnings.filterwarnings(\"ignore\")\n",
    "\n",
    "#creating connections\n",
    "\n",
    "scope= ['https://spreadsheets.google.com/feeds','https://www.googleapis.com/auth/drive']\n",
    "credentials= ServiceAccountCredentials.from_json_keyfile_name('car-master-sheet.json', scope) \n",
    "client= gspread.authorize(credentials)\n",
    "clients = pygsheets.authorize(service_file='car-master-sheet.json')\n",
    "\n",
    "#sheets and code\n",
    "Recoverysheetnew='1j9hmPHNmfjJp7nn4p8EVq8aciL8NfiO3hYWdf28aDzQ'\n",
    "newleasingmaster='1D0U02U0QN7pXsgM4AdOUiUKB4rB-SoTwSspWkuwl_8E'\n",
    "sheet= client.open_by_key(Recoverysheetnew)\n",
    "ws= sheet.worksheet('Recovery Tabs')\n",
    "data = ws.get_all_values()\n",
    "headers=data.pop(0)\n",
    "recovery_tabs = pd.DataFrame(data,columns=headers)\n",
    "tabs=list(recovery_tabs['Recovery Tabs'])\n",
    "dfs=pd.DataFrame()\n",
    "for i in tabs:\n",
    "    if i in tabs:\n",
    "        Recoverysheetnew='1j9hmPHNmfjJp7nn4p8EVq8aciL8NfiO3hYWdf28aDzQ'\n",
    "        sheet= client.open_by_key(Recoverysheetnew)\n",
    "        ws= sheet.worksheet(i)\n",
    "        data = ws.get_all_values()\n",
    "        df = pd.DataFrame(data)\n",
    "        dfs = dfs.append(df,ignore_index = True)\n",
    "        print(i)\n",
    "    else:\n",
    "        print(\"tab no found\")\n",
    "df=dfs.rename(columns=dfs.iloc[0]).drop(dfs.index[0]).reset_index(drop=True)\n",
    "a=df.loc[df['Collection of Purpose'].isin(['Mumbai leasing Rent','Mumbai Leasing Deposit'])]\n",
    "dfm=a.iloc[:,0:14]\n",
    "dfm.dropna()\n",
    "# sheet= clients.open_by_key(newleasingmaster)\n",
    "# ws= sheet.worksheet_by_title('Recovery')\n",
    "# ws.clear()\n",
    "# ws.set_dataframe(dfm,(1,1))\n",
    "# print(\"New leasing master- recovery tab updated succesfully\")\n",
    "\n",
    "sheet= client.open_by_key(newleasingmaster)\n",
    "ws= sheet.worksheet('Leasing Payment')\n",
    "data = ws.get_all_values()\n",
    "headers=data.pop(0)\n",
    "leasing_payments = pd.DataFrame(data,columns=headers)\n",
    "leasing_payment=leasing_payments.loc[leasing_payments['Confirmed?'] == 'Yes']\n",
    "lsp_df=leasing_payment.iloc[:,[2,1,8,8,4,3,5,6,9]]\n",
    "cols = []\n",
    "count = 1\n",
    "for column in lsp_df.columns:\n",
    "    if column == 'Types of payment':\n",
    "        cols.append(f'Types of payment{count}')\n",
    "        count+=1\n",
    "        continue\n",
    "    cols.append(column)\n",
    "lsp_df.columns = cols\n",
    "lsp_df.rename({'Date':'Date of payment','Types of payment1': 'Types of payment','Types of payment2':'online'}, axis=1, inplace=True)\n",
    "lsp_df['online'] = lsp_df['online'].str.capitalize()\n",
    "lsp_df['online'] = lsp_df['online'].apply(lambda x : 'Cash' if x == 'Cash' else '' if x == '' else 'Online')\n",
    "lsp_df.rename({'Date of payment':'Date  of Payment','Rent or Deposit?':'Collection of Purpose','Types of payment':'Mode Of Payment','online':'Cash/Online','Name':'Name of Employee','ETM ID':'Employee ID','Phone Number':'Mobile','DM name':'DM Name'}, axis=1, inplace=True)\n",
    "\n",
    "sheet= client.open_by_key(newleasingmaster)\n",
    "ws= sheet.worksheet('Recovery')\n",
    "data = ws.get_all_values()\n",
    "headers=data.pop(0)\n",
    "recovery = pd.DataFrame(data,columns=headers)\n",
    "recovery_df=recovery.iloc[:,[0,2,3,4,5,6,7,8,9,10]]\n",
    "recovery_df['Week Begin date']= recovery_df['Week Begin date'].str.replace('-', '/')\n",
    "recovery_df['Week Begin date'] = pd.to_datetime(recovery_df['Week Begin date'], errors='coerce',format='%d/%m/%Y')\n",
    "start_date='2022-06-20'\n",
    "rec =recovery_df[(recovery_df['Week Begin date'] >= (start_date))]\n",
    "rec['Week Begin date']=rec['Week Begin date'].astype(str)\n",
    "recoverys=rec.iloc[:,[1,2,3,4,5,6,7,8,9]]\n",
    "collection_df = recoverys.append(lsp_df,ignore_index = True)\n",
    "collection_df.dropna(inplace = True)\n",
    "# sheet= clients.open_by_key(newleasingmaster)\n",
    "# ws= sheet.worksheet_by_title('Collection')\n",
    "# ws.clear(start='A586',end='I100000')\n",
    "# ws.set_dataframe(collection_df,(586,1))\n",
    "\n",
    "# print(\"New leasing master-collection tab updated successfully\")"
   ]
  },
  {
   "cell_type": "code",
   "execution_count": 3,
   "id": "5dfc4dd1",
   "metadata": {},
   "outputs": [
    {
     "data": {
      "text/plain": [
       "(3895, 14)"
      ]
     },
     "execution_count": 3,
     "metadata": {},
     "output_type": "execute_result"
    }
   ],
   "source": [
    "dfm.shape"
   ]
  },
  {
   "cell_type": "code",
   "execution_count": 4,
   "id": "d8ff7cfd",
   "metadata": {},
   "outputs": [
    {
     "data": {
      "text/plain": [
       "(13410, 9)"
      ]
     },
     "execution_count": 4,
     "metadata": {},
     "output_type": "execute_result"
    }
   ],
   "source": [
    "collection_df.shape"
   ]
  },
  {
   "cell_type": "code",
   "execution_count": null,
   "id": "5fdb9232",
   "metadata": {},
   "outputs": [],
   "source": []
  },
  {
   "cell_type": "code",
   "execution_count": null,
   "id": "86a61682",
   "metadata": {},
   "outputs": [],
   "source": []
  },
  {
   "cell_type": "code",
   "execution_count": null,
   "id": "c8d80de3",
   "metadata": {},
   "outputs": [],
   "source": []
  },
  {
   "cell_type": "code",
   "execution_count": null,
   "id": "d71af3a7",
   "metadata": {},
   "outputs": [],
   "source": []
  },
  {
   "cell_type": "code",
   "execution_count": null,
   "id": "568cba84",
   "metadata": {},
   "outputs": [],
   "source": []
  },
  {
   "cell_type": "code",
   "execution_count": null,
   "id": "0d6a8280",
   "metadata": {},
   "outputs": [],
   "source": []
  },
  {
   "cell_type": "markdown",
   "id": "5a8c3e42",
   "metadata": {},
   "source": [
    "# pygheeets only"
   ]
  },
  {
   "cell_type": "code",
   "execution_count": 2,
   "id": "2c1b1f0f",
   "metadata": {},
   "outputs": [
    {
     "name": "stdout",
     "output_type": "stream",
     "text": [
      "Pratik\n",
      "Sagar\n",
      "Makarand\n",
      "Shubham\n",
      "Rohan\n",
      "Sachin\n",
      "RazorPay\n",
      "Paytm\n",
      "BankTransferred\n",
      "Akash Sonavane\n",
      "Mithun\n",
      "Pankesh\n",
      "Mayuresh\n",
      "New leasing master- recovery tab updated succesfully\n",
      "New leasing master-collection tab updated successfully\n"
     ]
    }
   ],
   "source": [
    "#importing libraries\n",
    "import pandas as pd\n",
    "import numpy as np\n",
    "import pygsheets\n",
    "import warnings\n",
    "warnings.filterwarnings(\"ignore\")\n",
    "\n",
    "#creating connections\n",
    "clients = pygsheets.authorize(service_file='car-master-sheet.json')\n",
    "\n",
    "#sheets and code\n",
    "Recoverysheetnew='1j9hmPHNmfjJp7nn4p8EVq8aciL8NfiO3hYWdf28aDzQ'\n",
    "newleasingmaster='1D0U02U0QN7pXsgM4AdOUiUKB4rB-SoTwSspWkuwl_8E'\n",
    "sheet= clients.open_by_key(Recoverysheetnew)\n",
    "ws= sheet.worksheet_by_title('Recovery Tabs')\n",
    "data = ws.get_all_values()\n",
    "headers=data.pop(0)\n",
    "recovery_tabs = pd.DataFrame(data,columns=headers)\n",
    "tabs=list(recovery_tabs['Recovery Tabs'].replace('',np.nan).dropna())\n",
    "dfs=pd.DataFrame()\n",
    "for i in tabs:\n",
    "    if i in tabs:\n",
    "        sheet= clients.open_by_key(Recoverysheetnew)\n",
    "        ws= sheet.worksheet_by_title(i)\n",
    "        data = ws.get_all_values()\n",
    "        df = pd.DataFrame(data)\n",
    "        dfs = dfs.append(df,ignore_index = True)\n",
    "        print(i)\n",
    "    else:\n",
    "        print(\"tab no found\")\n",
    "df=dfs.rename(columns=dfs.iloc[0]).drop(dfs.index[0]).reset_index(drop=True)\n",
    "a=df.loc[df['Collection of Purpose'].isin(['Mumbai leasing Rent','Mumbai Leasing Deposit'])]\n",
    "dfm=a.iloc[:,0:14]\n",
    "dfm.dropna()\n",
    "sheet= clients.open_by_key(newleasingmaster)\n",
    "ws= sheet.worksheet_by_title('Recovery')\n",
    "ws.clear()\n",
    "ws.set_dataframe(dfm,(1,1))\n",
    "print(\"New leasing master- recovery tab updated succesfully\")\n",
    "\n",
    "sheet= clients.open_by_key(newleasingmaster)\n",
    "ws= sheet.worksheet_by_title('Leasing Payment')\n",
    "data = ws.get_all_values()\n",
    "headers=data.pop(0)\n",
    "leasing_payments = pd.DataFrame(data,columns=headers)\n",
    "leasing_payment=leasing_payments.loc[leasing_payments['Confirmed?'] == 'Yes']\n",
    "lsp_df=leasing_payment.iloc[:,[2,1,8,8,4,3,5,6,9]]\n",
    "cols = []\n",
    "count = 1\n",
    "for column in lsp_df.columns:\n",
    "    if column == 'Types of payment':\n",
    "        cols.append(f'Types of payment{count}')\n",
    "        count+=1\n",
    "        continue\n",
    "    cols.append(column)\n",
    "lsp_df.columns = cols\n",
    "lsp_df.rename({'Date':'Date of payment','Types of payment1': 'Types of payment','Types of payment2':'online'}, axis=1, inplace=True)\n",
    "lsp_df['online'] = lsp_df['online'].str.capitalize()\n",
    "lsp_df['online'] = lsp_df['online'].apply(lambda x : 'Cash' if x == 'Cash' else '' if x == '' else 'Online')\n",
    "lsp_df.rename({'Date of payment':'Date  of Payment','Rent or Deposit?':'Collection of Purpose','Types of payment':'Mode Of Payment','online':'Cash/Online','Name':'Name of Employee','ETM ID':'Employee ID','Phone Number':'Mobile','DM name':'DM Name'}, axis=1, inplace=True)\n",
    "\n",
    "sheet= clients.open_by_key(newleasingmaster)\n",
    "ws= sheet.worksheet_by_title('Recovery')\n",
    "data = ws.get_all_values()\n",
    "headers=data.pop(0)\n",
    "recovery = pd.DataFrame(data,columns=headers)\n",
    "recovery_df=recovery.iloc[:,[0,2,3,4,5,6,7,8,9,10]]\n",
    "recovery_df['Week Begin date']= recovery_df['Week Begin date'].str.replace('-', '/')\n",
    "recovery_df['Week Begin date'] = pd.to_datetime(recovery_df['Week Begin date'], errors='coerce',format='%d/%m/%Y')\n",
    "start_date='2022-06-20'\n",
    "rec =recovery_df[(recovery_df['Week Begin date'] >= (start_date))]\n",
    "rec['Week Begin date']=rec['Week Begin date'].astype(str)\n",
    "recoverys=rec.iloc[:,[1,2,3,4,5,6,7,8,9]]\n",
    "collection_df = recoverys.append(lsp_df,ignore_index = True)\n",
    "collection_df.dropna(inplace = True)\n",
    "sheet= clients.open_by_key(newleasingmaster)\n",
    "ws= sheet.worksheet_by_title('Collection')\n",
    "ws.clear(start='A586',end='I100000')\n",
    "ws.set_dataframe(collection_df,(586,1))\n",
    "print(\"New leasing master-collection tab updated successfully\")"
   ]
  },
  {
   "cell_type": "code",
   "execution_count": 5,
   "id": "ebc5031e",
   "metadata": {},
   "outputs": [
    {
     "data": {
      "text/plain": [
       "(3895, 14)"
      ]
     },
     "execution_count": 5,
     "metadata": {},
     "output_type": "execute_result"
    }
   ],
   "source": [
    "dfm.shape#pyghsheets"
   ]
  },
  {
   "cell_type": "code",
   "execution_count": 4,
   "id": "d5aacc86",
   "metadata": {},
   "outputs": [
    {
     "data": {
      "text/plain": [
       "(13410, 9)"
      ]
     },
     "execution_count": 4,
     "metadata": {},
     "output_type": "execute_result"
    }
   ],
   "source": [
    "collection_df.shape#pyghsheets"
   ]
  },
  {
   "cell_type": "code",
   "execution_count": 6,
   "id": "7aa83d9b",
   "metadata": {},
   "outputs": [],
   "source": [
    "# ws.clear(start='A586',end=None)"
   ]
  },
  {
   "cell_type": "code",
   "execution_count": null,
   "id": "feca1a30",
   "metadata": {},
   "outputs": [],
   "source": []
  },
  {
   "cell_type": "code",
   "execution_count": null,
   "id": "1d5a8bb2",
   "metadata": {},
   "outputs": [],
   "source": []
  },
  {
   "cell_type": "markdown",
   "id": "0c2f31d1",
   "metadata": {},
   "source": [
    "# mail"
   ]
  },
  {
   "cell_type": "code",
   "execution_count": 2,
   "id": "ae1ca1db",
   "metadata": {},
   "outputs": [
    {
     "ename": "ModuleNotFoundError",
     "evalue": "No module named 'mail'",
     "output_type": "error",
     "traceback": [
      "\u001b[1;31m---------------------------------------------------------------------------\u001b[0m",
      "\u001b[1;31mModuleNotFoundError\u001b[0m                       Traceback (most recent call last)",
      "\u001b[1;32m~\\AppData\\Local\\Temp/ipykernel_11356/1716224470.py\u001b[0m in \u001b[0;36m<module>\u001b[1;34m\u001b[0m\n\u001b[0;32m      1\u001b[0m \u001b[1;31m#importing libraries\u001b[0m\u001b[1;33m\u001b[0m\u001b[1;33m\u001b[0m\u001b[0m\n\u001b[0;32m      2\u001b[0m \u001b[1;32mimport\u001b[0m \u001b[0mos\u001b[0m\u001b[1;33m,\u001b[0m \u001b[0msys\u001b[0m\u001b[1;33m;\u001b[0m\u001b[0msys\u001b[0m\u001b[1;33m.\u001b[0m\u001b[0mpath\u001b[0m\u001b[1;33m.\u001b[0m\u001b[0mappend\u001b[0m\u001b[1;33m(\u001b[0m\u001b[0mos\u001b[0m\u001b[1;33m.\u001b[0m\u001b[0mpath\u001b[0m\u001b[1;33m.\u001b[0m\u001b[0mdirname\u001b[0m\u001b[1;33m(\u001b[0m\u001b[0mos\u001b[0m\u001b[1;33m.\u001b[0m\u001b[0mpath\u001b[0m\u001b[1;33m.\u001b[0m\u001b[0mrealpath\u001b[0m\u001b[1;33m(\u001b[0m\u001b[1;34m'mail'\u001b[0m\u001b[1;33m)\u001b[0m\u001b[1;33m)\u001b[0m\u001b[1;33m)\u001b[0m\u001b[1;33m\u001b[0m\u001b[1;33m\u001b[0m\u001b[0m\n\u001b[1;32m----> 3\u001b[1;33m \u001b[1;32mfrom\u001b[0m \u001b[0mmail\u001b[0m\u001b[1;33m.\u001b[0m\u001b[0msend_mail\u001b[0m \u001b[1;32mimport\u001b[0m \u001b[0msendMail\u001b[0m\u001b[1;33m\u001b[0m\u001b[1;33m\u001b[0m\u001b[0m\n\u001b[0m\u001b[0;32m      4\u001b[0m \u001b[1;32mimport\u001b[0m \u001b[0mpandas\u001b[0m \u001b[1;32mas\u001b[0m \u001b[0mpd\u001b[0m\u001b[1;33m\u001b[0m\u001b[1;33m\u001b[0m\u001b[0m\n\u001b[0;32m      5\u001b[0m \u001b[1;32mimport\u001b[0m \u001b[0mdatetime\u001b[0m\u001b[1;33m\u001b[0m\u001b[1;33m\u001b[0m\u001b[0m\n",
      "\u001b[1;31mModuleNotFoundError\u001b[0m: No module named 'mail'"
     ]
    }
   ],
   "source": [
    "#importing libraries\n",
    "import os, sys;sys.path.append(os.path.dirname(os.path.realpath('mail')))\n",
    "from mail.send_mail import sendMail\n",
    "import pandas as pd\n",
    "import numpy as np\n",
    "import pygsheets\n",
    "import warnings\n",
    "warnings.filterwarnings(\"ignore\")\n",
    "\n",
    "try:\n",
    "\n",
    "    #creating connections\n",
    "    clients = pygsheets.authorize(service_file='/home/karan/config/car-master-sheet.json')\n",
    "\n",
    "    #sheets and code\n",
    "    Recoverysheetnew='1j9hmPHNmfjJp7nn4p8EVq8aciL8NfiO3hYWdf28aDzQ'\n",
    "    newleasingmaster='1D0U02U0QN7pXsgM4AdOUiUKB4rB-SoTwSspWkuwl_8E'\n",
    "    sheet= clients.open_by_key(Recoverysheetnew)\n",
    "    ws= sheet.worksheet_by_title('Recovery Tabs')\n",
    "    data = ws.get_all_values()\n",
    "    headers=data.pop(0)\n",
    "    recovery_tabs = pd.DataFrame(data,columns=headers)\n",
    "    tabs=list(recovery_tabs['Recovery Tabs'].replace('',np.nan).dropna())\n",
    "    dfs=pd.DataFrame()\n",
    "    for i in tabs:\n",
    "        if i in tabs:\n",
    "            sheet= clients.open_by_key(Recoverysheetnew)\n",
    "            ws= sheet.worksheet_by_title(i)\n",
    "            data = ws.get_all_values()\n",
    "            df = pd.DataFrame(data)\n",
    "            dfs = dfs.append(df,ignore_index = True)\n",
    "            print(i)\n",
    "        else:\n",
    "            print(\"tab no found\")\n",
    "    df=dfs.rename(columns=dfs.iloc[0]).drop(dfs.index[0]).reset_index(drop=True)\n",
    "    a=df.loc[df['Collection of Purpose'].isin(['Mumbai leasing Rent','Mumbai Leasing Deposit'])]\n",
    "    dfm=a.iloc[:,0:14]\n",
    "    dfm.dropna()\n",
    "    sheet= clients.open_by_key(newleasingmaster)\n",
    "    ws= sheet.worksheet_by_title('Recovery')\n",
    "    ws.clear()\n",
    "    ws.set_dataframe(dfm,(1,1))\n",
    "    print(\"New leasing master- recovery tab updated succesfully\")\n",
    "\n",
    "    sheet= clients.open_by_key(newleasingmaster)\n",
    "    ws= sheet.worksheet_by_title('Leasing Payment')\n",
    "    data = ws.get_all_values()\n",
    "    headers=data.pop(0)\n",
    "    leasing_payments = pd.DataFrame(data,columns=headers)\n",
    "    leasing_payment=leasing_payments.loc[leasing_payments['Confirmed?'] == 'Yes']\n",
    "    lsp_df=leasing_payment.iloc[:,[2,1,8,8,4,3,5,6,9]]\n",
    "    cols = []\n",
    "    count = 1\n",
    "    for column in lsp_df.columns:\n",
    "        if column == 'Types of payment':\n",
    "            cols.append(f'Types of payment{count}')\n",
    "            count+=1\n",
    "            continue\n",
    "        cols.append(column)\n",
    "    lsp_df.columns = cols\n",
    "    lsp_df.rename({'Date':'Date of payment','Types of payment1': 'Types of payment','Types of payment2':'online'}, axis=1, inplace=True)\n",
    "    lsp_df['online'] = lsp_df['online'].str.capitalize()\n",
    "    lsp_df['online'] = lsp_df['online'].apply(lambda x : 'Cash' if x == 'Cash' else '' if x == '' else 'Online')\n",
    "    lsp_df.rename({'Date of payment':'Date  of Payment','Rent or Deposit?':'Collection of Purpose','Types of payment':'Mode Of Payment','online':'Cash/Online','Name':'Name of Employee','ETM ID':'Employee ID','Phone Number':'Mobile','DM name':'DM Name'}, axis=1, inplace=True)\n",
    "\n",
    "    sheet= clients.open_by_key(newleasingmaster)\n",
    "    ws= sheet.worksheet_by_title('Recovery')\n",
    "    data = ws.get_all_values()\n",
    "    headers=data.pop(0)\n",
    "    recovery = pd.DataFrame(data,columns=headers)\n",
    "    recovery_df=recovery.iloc[:,[0,2,3,4,5,6,7,8,9,10]]\n",
    "    recovery_df['Week Begin date']= recovery_df['Week Begin date'].str.replace('-', '/')\n",
    "    recovery_df['Week Begin date'] = pd.to_datetime(recovery_df['Week Begin date'], errors='coerce',format='%d/%m/%Y')\n",
    "    start_date='2022-06-20'\n",
    "    rec =recovery_df[(recovery_df['Week Begin date'] >= (start_date))]\n",
    "    rec['Week Begin date']=rec['Week Begin date'].astype(str)\n",
    "    recoverys=rec.iloc[:,[1,2,3,4,5,6,7,8,9]]\n",
    "    collection_df = recoverys.append(lsp_df,ignore_index = True)\n",
    "    collection_df.dropna(inplace = True)\n",
    "    sheet= clients.open_by_key(newleasingmaster)\n",
    "    ws= sheet.worksheet_by_title('Collection')\n",
    "    ws.clear(start='A586',end='I100000')\n",
    "    ws.set_dataframe(collection_df,(586,1))\n",
    "    print(\"New leasing master-collection tab updated successfully\")\n",
    "    \n",
    "\n",
    "\n",
    "except Exception: \n",
    "    sendMail([\"abusalameverestfleet@gmail.com\",\n",
    "              \"avinash.everestfleet@gmail.com\",\n",
    "              \"rutvijaeverestfleet@gmail.com\",\n",
    "              \"karan.saraogi@everestfleet.com\",\n",
    "              \"sameer.everestfleet@gmail.com\"])"
   ]
  },
  {
   "cell_type": "code",
   "execution_count": 4,
   "id": "2a61663b",
   "metadata": {},
   "outputs": [
    {
     "data": {
      "text/html": [
       "<div>\n",
       "<style scoped>\n",
       "    .dataframe tbody tr th:only-of-type {\n",
       "        vertical-align: middle;\n",
       "    }\n",
       "\n",
       "    .dataframe tbody tr th {\n",
       "        vertical-align: top;\n",
       "    }\n",
       "\n",
       "    .dataframe thead th {\n",
       "        text-align: right;\n",
       "    }\n",
       "</style>\n",
       "<table border=\"1\" class=\"dataframe\">\n",
       "  <thead>\n",
       "    <tr style=\"text-align: right;\">\n",
       "      <th></th>\n",
       "      <th></th>\n",
       "    </tr>\n",
       "  </thead>\n",
       "  <tbody>\n",
       "  </tbody>\n",
       "</table>\n",
       "</div>"
      ],
      "text/plain": [
       "Empty DataFrame\n",
       "Columns: []\n",
       "Index: []"
      ]
     },
     "execution_count": 4,
     "metadata": {},
     "output_type": "execute_result"
    }
   ],
   "source": [
    "df=pd.DataFrame()\n",
    "df['']=''\n",
    "df"
   ]
  },
  {
   "cell_type": "code",
   "execution_count": 1,
   "id": "2275dd3a",
   "metadata": {},
   "outputs": [
    {
     "data": {
      "text/plain": [
       "15"
      ]
     },
     "execution_count": 1,
     "metadata": {},
     "output_type": "execute_result"
    }
   ],
   "source": [
    "l=[1,2,3,4,5]\n",
    "ls=sum(l)\n",
    "ls"
   ]
  },
  {
   "cell_type": "code",
   "execution_count": 6,
   "id": "9e16e8ef",
   "metadata": {},
   "outputs": [
    {
     "name": "stdout",
     "output_type": "stream",
     "text": [
      "[1, 2, 3, 4, 5, 6, 4, 5, 6]\n",
      "[1, 2, 3, 4, 5, 6, 4, 5, 6, [4, 5, 6]]\n"
     ]
    }
   ],
   "source": [
    "a=[1,2,3,4,5,6]\n",
    "a.extend([4,5,6])\n",
    "print(a)\n",
    "a.append([4,5,6])\n",
    "print(a)"
   ]
  },
  {
   "cell_type": "code",
   "execution_count": null,
   "id": "a52575f3",
   "metadata": {},
   "outputs": [],
   "source": [
    "cities=['6278','278','620','877','108','11','12','13','Fourteen Fleet', '9 Fleet ','Seedan Fleet','982','776','981','816','455','788','93','Seventeen Fleet','Prihans','DEL-1', 'DEL-2','Pramod','OP.BLR','Everest BLR -3','Everest BLR-4','Everest BLR-5','BLR leasing 2','Everest HYD-1','Everest HYD-2','Hyd','Hyd leasing -1 ','Hyd leasing -2 ','Everest HYD Leasing - 4','Hyd leasing -3','Hyd leasing-5','Pune-1']\n",
    "nfleet=input(\"Enter new fleet or no :\").split(',')\n",
    "if 'no' in nfleet:\n",
    "    print(\"New Fleet not added\")\n",
    "elif nfleet==nfleet:\n",
    "    cities.extend(nfleet)\n",
    "# Take input from user and ask him to append something in cities\n",
    "# if user says no then don't append else append something "
   ]
  },
  {
   "cell_type": "code",
   "execution_count": 2,
   "id": "f85eaa88",
   "metadata": {},
   "outputs": [],
   "source": [
    "#importing libraries\n",
    "\n",
    "import pandas as pd\n",
    "import datetime\n",
    "from datetime import date, timedelta\n",
    "import gspread\n",
    "import pygsheets\n",
    "from oauth2client.service_account import ServiceAccountCredentials\n",
    "import warnings\n",
    "warnings.filterwarnings(\"ignore\")"
   ]
  },
  {
   "cell_type": "code",
   "execution_count": null,
   "id": "8b64d4cb",
   "metadata": {},
   "outputs": [],
   "source": []
  }
 ],
 "metadata": {
  "kernelspec": {
   "display_name": "Python 3 (ipykernel)",
   "language": "python",
   "name": "python3"
  },
  "language_info": {
   "codemirror_mode": {
    "name": "ipython",
    "version": 3
   },
   "file_extension": ".py",
   "mimetype": "text/x-python",
   "name": "python",
   "nbconvert_exporter": "python",
   "pygments_lexer": "ipython3",
   "version": "3.9.7"
  }
 },
 "nbformat": 4,
 "nbformat_minor": 5
}
