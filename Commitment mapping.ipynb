{
 "cells": [
  {
   "cell_type": "code",
   "execution_count": 2,
   "id": "17b26409",
   "metadata": {},
   "outputs": [
    {
     "data": {
      "text/plain": [
       "{'spreadsheetId': '14zYk5KJ5J8uOxTlHvFF5uf-h_dRUa98x7FOl0AdbvIk',\n",
       " 'updatedRange': \"'Allotment Query data'!A1:E2075\",\n",
       " 'updatedRows': 2075,\n",
       " 'updatedColumns': 5,\n",
       " 'updatedCells': 10375}"
      ]
     },
     "execution_count": 2,
     "metadata": {},
     "output_type": "execute_result"
    }
   ],
   "source": [
    "import gspread\n",
    "from oauth2client.service_account import ServiceAccountCredentials\n",
    "import warnings\n",
    "warnings.filterwarnings(\"ignore\")\n",
    "scope= ['https://spreadsheets.google.com/feeds','https://www.googleapis.com/auth/drive']\n",
    "credentials= ServiceAccountCredentials.from_json_keyfile_name('client_secret.json', scope) \n",
    "client= gspread.authorize(credentials)\n",
    "sheet= client.open('Allotment data for Commitment ')\n",
    "ws= sheet.worksheet('Master')\n",
    "data = ws.get_all_values()\n",
    "sheet= client.open('Commitement Mapping')\n",
    "ws= sheet.worksheet('Allotment Query data')\n",
    "ws.update(data, value_input_option='USER_ENTERED')\n",
    "print(\"Updated successfully\")"
   ]
  },
  {
   "cell_type": "code",
   "execution_count": null,
   "id": "12d66916",
   "metadata": {},
   "outputs": [],
   "source": []
  }
 ],
 "metadata": {
  "kernelspec": {
   "display_name": "Python 3 (ipykernel)",
   "language": "python",
   "name": "python3"
  },
  "language_info": {
   "codemirror_mode": {
    "name": "ipython",
    "version": 3
   },
   "file_extension": ".py",
   "mimetype": "text/x-python",
   "name": "python",
   "nbconvert_exporter": "python",
   "pygments_lexer": "ipython3",
   "version": "3.9.7"
  }
 },
 "nbformat": 4,
 "nbformat_minor": 5
}
