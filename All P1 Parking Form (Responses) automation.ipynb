{
 "cells": [
  {
   "cell_type": "markdown",
   "id": "851b78b2",
   "metadata": {},
   "source": [
    "# Audit sheet"
   ]
  },
  {
   "cell_type": "code",
   "execution_count": 74,
   "id": "306a6b67",
   "metadata": {},
   "outputs": [
    {
     "data": {
      "text/plain": [
       "{'spreadsheetId': '1Qc3rUeqZyoQuzz-ge_gwQaU47HLV2o-x_Y5CCJDeJDM',\n",
       " 'updatedRange': 'Audit!A1:D395',\n",
       " 'updatedRows': 395,\n",
       " 'updatedColumns': 4,\n",
       " 'updatedCells': 1580}"
      ]
     },
     "execution_count": 74,
     "metadata": {},
     "output_type": "execute_result"
    }
   ],
   "source": [
    "# importing libraries\n",
    "\n",
    "import pandas as pd\n",
    "import datetime\n",
    "from datetime import date, timedelta\n",
    "import gspread\n",
    "from oauth2client.service_account import ServiceAccountCredentials\n",
    "import warnings\n",
    "warnings.filterwarnings(\"ignore\")\n",
    "\n",
    "scope= ['https://spreadsheets.google.com/feeds','https://www.googleapis.com/auth/drive']\n",
    "credentials= ServiceAccountCredentials.from_json_keyfile_name('client_secret.json', scope) \n",
    "client= gspread.authorize(credentials)\n",
    "sheet= client.open_by_key('13Vbp6qjR8-V1YHcFza2lrocEIBnFYivNNDAW-RNetHs')#Audit\n",
    "ws= sheet.worksheet('Audit Responses')\n",
    "data = ws.get_all_values()\n",
    "headers = data.pop(0)\n",
    "dfm = pd.DataFrame(data,columns=headers)\n",
    "df=dfm.iloc[:,[43,0,7,8]]\n",
    "today = datetime.date.today()\n",
    "todays = pd.Timestamp.today()  \n",
    "today_1= today - datetime.timedelta(days=1)\n",
    "df['Timestamp']= df['Timestamp'].str.replace('-', '/')\n",
    "df['Timestamp'] = pd.to_datetime(df['Timestamp'], errors='coerce',format='%d/%m/%Y %H:%M:%S')#27/12/2021\n",
    "df_1 = df[(df['Timestamp'] >= pd.to_datetime(today_1)) & (df['Timestamp'] < pd.to_datetime(todays))]\n",
    "df_1['Timestamp']=df_1['Timestamp'].astype(str)\n",
    "#Copy of All P1 Parking Form (Responses)\n",
    "sheet= client.open_by_key('1Qc3rUeqZyoQuzz-ge_gwQaU47HLV2o-x_Y5CCJDeJDM')#Copy of All P1 Parking Form (Responses)\n",
    "ws= sheet.worksheet('Audit')\n",
    "ws.update([df_1.columns.values.tolist()] + df_1.values.tolist(),value_input_option='USER_ENTERED')"
   ]
  },
  {
   "cell_type": "markdown",
   "id": "807771df",
   "metadata": {},
   "source": [
    "# Korum_Mall_Visitors"
   ]
  },
  {
   "cell_type": "code",
   "execution_count": 48,
   "id": "8fe682c4",
   "metadata": {},
   "outputs": [
    {
     "data": {
      "text/plain": [
       "{'spreadsheetId': '1Qc3rUeqZyoQuzz-ge_gwQaU47HLV2o-x_Y5CCJDeJDM',\n",
       " 'updatedRange': 'Korum_Mall_Visitors!A1:C18373',\n",
       " 'updatedRows': 18373,\n",
       " 'updatedColumns': 3,\n",
       " 'updatedCells': 55119}"
      ]
     },
     "execution_count": 48,
     "metadata": {},
     "output_type": "execute_result"
    }
   ],
   "source": [
    "scope= ['https://spreadsheets.google.com/feeds','https://www.googleapis.com/auth/drive']\n",
    "credentials= ServiceAccountCredentials.from_json_keyfile_name('client_secret.json', scope) \n",
    "client= gspread.authorize(credentials)\n",
    "sheet= client.open_by_key('1XrTAaaVbX6qZpLPa4WuYUC8DhvlwlqgeX7NILefuutM')#New Visitors Form at Korum Mall,Thane \n",
    "ws= sheet.worksheet('Vistor Responses')\n",
    "data = ws.get_all_values()\n",
    "headers = data.pop(0)\n",
    "dfm = pd.DataFrame(data,columns=headers)\n",
    "df=dfm.iloc[:,[5,0,3]]\n",
    "df['Timestamp']= df['Timestamp'].str.replace('-', '/')\n",
    "df[['Timestamp']] = df[['Timestamp']].apply(pd.to_datetime, errors='coerce',format='%d/%m/%Y %H:%M:%S')\n",
    "df.sort_values(by='Timestamp',ascending=False, inplace=True)\n",
    "df['Timestamp']=df['Timestamp'].astype(str)\n",
    "#Copy of All P1 Parking Form (Responses)\n",
    "sheet= client.open_by_key('1Qc3rUeqZyoQuzz-ge_gwQaU47HLV2o-x_Y5CCJDeJDM')#Copy of All P1 Parking Form (Responses)\n",
    "ws= sheet.worksheet('Korum_Mall_Visitors')\n",
    "ws.update([df.columns.values.tolist()] + df.values.tolist(),value_input_option='USER_ENTERED')"
   ]
  },
  {
   "cell_type": "markdown",
   "id": "85f73031",
   "metadata": {},
   "source": [
    "# Leasing Parking"
   ]
  },
  {
   "cell_type": "code",
   "execution_count": 23,
   "id": "23e497d5",
   "metadata": {},
   "outputs": [
    {
     "data": {
      "text/plain": [
       "{'spreadsheetId': '1Qc3rUeqZyoQuzz-ge_gwQaU47HLV2o-x_Y5CCJDeJDM',\n",
       " 'updatedRange': \"'Leasing Parking'!A1:A46\",\n",
       " 'updatedRows': 46,\n",
       " 'updatedColumns': 1,\n",
       " 'updatedCells': 46}"
      ]
     },
     "execution_count": 23,
     "metadata": {},
     "output_type": "execute_result"
    }
   ],
   "source": [
    "scope= ['https://spreadsheets.google.com/feeds','https://www.googleapis.com/auth/drive']\n",
    "credentials= ServiceAccountCredentials.from_json_keyfile_name('client_secret.json', scope) \n",
    "client= gspread.authorize(credentials)\n",
    "sheet= client.open_by_key('1BRHxapXNDhL9i2MU4NoOQF942sujuu6t36jW6XRwrII')#Leasing Allotment New\n",
    "ws= sheet.worksheet('Car Status')\n",
    "data = ws.get_all_values()\n",
    "headers = data.pop(0)\n",
    "dfm = pd.DataFrame(data,columns=headers)\n",
    "dfms=dfm.loc[(dfm['Status'] == 'Unalloted')]\n",
    "df=dfms[[\"Allocation Vehicle Number\"]]\n",
    "# #Copy of All P1 Parking Form (Responses)\n",
    "sheet= client.open_by_key('1Qc3rUeqZyoQuzz-ge_gwQaU47HLV2o-x_Y5CCJDeJDM')#Copy of All P1 Parking Form (Responses)\n",
    "ws= sheet.worksheet('Leasing Parking')\n",
    "ws.update([df.columns.values.tolist()] + df.values.tolist(),value_input_option='USER_ENTERED')"
   ]
  },
  {
   "cell_type": "markdown",
   "id": "46eacb52",
   "metadata": {},
   "source": [
    "# 60:40 Parking"
   ]
  },
  {
   "cell_type": "code",
   "execution_count": 30,
   "id": "b5685cec",
   "metadata": {},
   "outputs": [
    {
     "data": {
      "text/plain": [
       "{'spreadsheetId': '1Qc3rUeqZyoQuzz-ge_gwQaU47HLV2o-x_Y5CCJDeJDM',\n",
       " 'updatedRange': \"'60:40 Parking'!A1:A26\",\n",
       " 'updatedRows': 26,\n",
       " 'updatedColumns': 1,\n",
       " 'updatedCells': 26}"
      ]
     },
     "execution_count": 30,
     "metadata": {},
     "output_type": "execute_result"
    }
   ],
   "source": [
    "scope= ['https://spreadsheets.google.com/feeds','https://www.googleapis.com/auth/drive']\n",
    "credentials= ServiceAccountCredentials.from_json_keyfile_name('client_secret.json', scope) \n",
    "client= gspread.authorize(credentials)\n",
    "sheet= client.open_by_key('1cpR6AVVpk9TF4_I38IFYPPOqk-_bSROHgVVYdaXLXOI')#Allotment Status Report\n",
    "ws= sheet.worksheet('car_number')\n",
    "data = ws.get_all_values()\n",
    "headers = data.pop(0)\n",
    "dfm = pd.DataFrame(data,columns=headers)\n",
    "df=dfm[['Car Number']]\n",
    "# #Copy of All P1 Parking Form (Responses)\n",
    "sheet= client.open_by_key('1Qc3rUeqZyoQuzz-ge_gwQaU47HLV2o-x_Y5CCJDeJDM')#Copy of All P1 Parking Form (Responses)\n",
    "ws= sheet.worksheet('60:40 Parking')\n",
    "ws.update([df.columns.values.tolist()] + df.values.tolist(),value_input_option='USER_ENTERED')"
   ]
  },
  {
   "cell_type": "markdown",
   "id": "461aa158",
   "metadata": {},
   "source": [
    "# Repair"
   ]
  },
  {
   "cell_type": "code",
   "execution_count": 41,
   "id": "6aae9f1d",
   "metadata": {},
   "outputs": [
    {
     "data": {
      "text/plain": [
       "{'spreadsheetId': '1Qc3rUeqZyoQuzz-ge_gwQaU47HLV2o-x_Y5CCJDeJDM',\n",
       " 'updatedRange': 'Repair!A1:A200',\n",
       " 'updatedRows': 200,\n",
       " 'updatedColumns': 1,\n",
       " 'updatedCells': 200}"
      ]
     },
     "execution_count": 41,
     "metadata": {},
     "output_type": "execute_result"
    }
   ],
   "source": [
    "scope= ['https://spreadsheets.google.com/feeds','https://www.googleapis.com/auth/drive']\n",
    "credentials= ServiceAccountCredentials.from_json_keyfile_name('client_secret.json', scope) \n",
    "client= gspread.authorize(credentials)\n",
    "sheet= client.open_by_key('1b4aqyV2icvnFl4vLmYMVLO9_ugLnUbj4fjLEcEujIAY')#Repairs - EFG Mumbai\n",
    "ws= sheet.worksheet('In Progress Repair')\n",
    "data = ws.get_all_values()\n",
    "headers = data.pop(0)\n",
    "dfm = pd.DataFrame(data,columns=headers)\n",
    "df=dfm.iloc[:,[1]]\n",
    "#Copy of All P1 Parking Form (Responses)\n",
    "sheet= client.open_by_key('1Qc3rUeqZyoQuzz-ge_gwQaU47HLV2o-x_Y5CCJDeJDM')#Copy of All P1 Parking Form (Responses)\n",
    "ws= sheet.worksheet('Repair')\n",
    "ws.update([df.columns.values.tolist()] + df.values.tolist(),value_input_option='USER_ENTERED')"
   ]
  },
  {
   "cell_type": "markdown",
   "id": "4531db5e",
   "metadata": {},
   "source": [
    "# Servicing"
   ]
  },
  {
   "cell_type": "code",
   "execution_count": 43,
   "id": "737c7193",
   "metadata": {},
   "outputs": [
    {
     "data": {
      "text/plain": [
       "{'spreadsheetId': '1Qc3rUeqZyoQuzz-ge_gwQaU47HLV2o-x_Y5CCJDeJDM',\n",
       " 'updatedRange': 'Servicing!A1:A250',\n",
       " 'updatedRows': 250,\n",
       " 'updatedColumns': 1,\n",
       " 'updatedCells': 250}"
      ]
     },
     "execution_count": 43,
     "metadata": {},
     "output_type": "execute_result"
    }
   ],
   "source": [
    "scope= ['https://spreadsheets.google.com/feeds','https://www.googleapis.com/auth/drive']\n",
    "credentials= ServiceAccountCredentials.from_json_keyfile_name('client_secret.json', scope) \n",
    "client= gspread.authorize(credentials)\n",
    "sheet= client.open_by_key('1b4aqyV2icvnFl4vLmYMVLO9_ugLnUbj4fjLEcEujIAY')#Repairs - EFG Mumbai\n",
    "ws= sheet.worksheet('In Progress Servicing')\n",
    "data = ws.get_all_values()\n",
    "headers = data.pop(0)\n",
    "dfm = pd.DataFrame(data,columns=headers)\n",
    "df=dfm.iloc[:,[1]]\n",
    "#Copy of All P1 Parking Form (Responses)\n",
    "sheet= client.open_by_key('1Qc3rUeqZyoQuzz-ge_gwQaU47HLV2o-x_Y5CCJDeJDM')#Copy of All P1 Parking Form (Responses)\n",
    "ws= sheet.worksheet('Servicing')\n",
    "ws.update([df.columns.values.tolist()] + df.values.tolist(),value_input_option='USER_ENTERED')"
   ]
  },
  {
   "cell_type": "markdown",
   "id": "31804c5c",
   "metadata": {},
   "source": [
    "# Insurance (Not have an access of an insurance sheet)"
   ]
  },
  {
   "cell_type": "code",
   "execution_count": null,
   "id": "3e8c75f2",
   "metadata": {},
   "outputs": [],
   "source": [
    "scope= ['https://spreadsheets.google.com/feeds','https://www.googleapis.com/auth/drive']\n",
    "credentials= ServiceAccountCredentials.from_json_keyfile_name('client_secret.json', scope) \n",
    "client= gspread.authorize(credentials)\n",
    "sheet= client.open_by_key('')\n",
    "ws= sheet.worksheet('')\n",
    "data = ws.get_all_values()\n",
    "headers = data.pop(0)\n",
    "dfm = pd.DataFrame(data,columns=headers)\n",
    "df=dfm.iloc[:,[1]]\n",
    "#Copy of All P1 Parking Form (Responses)\n",
    "# sheet= client.open_by_key('1Qc3rUeqZyoQuzz-ge_gwQaU47HLV2o-x_Y5CCJDeJDM')#Copy of All P1 Parking Form (Responses)\n",
    "# ws= sheet.worksheet('Insurance')\n",
    "# ws.update([df.columns.values.tolist()] + df.values.tolist(),value_input_option='USER_ENTERED')"
   ]
  },
  {
   "cell_type": "markdown",
   "id": "b22793ed",
   "metadata": {},
   "source": [
    "# DM"
   ]
  },
  {
   "cell_type": "code",
   "execution_count": 49,
   "id": "31fcead5",
   "metadata": {},
   "outputs": [
    {
     "data": {
      "text/plain": [
       "{'spreadsheetId': '1Qc3rUeqZyoQuzz-ge_gwQaU47HLV2o-x_Y5CCJDeJDM',\n",
       " 'updatedRange': 'DM!A1:C18373',\n",
       " 'updatedRows': 18373,\n",
       " 'updatedColumns': 3,\n",
       " 'updatedCells': 55119}"
      ]
     },
     "execution_count": 49,
     "metadata": {},
     "output_type": "execute_result"
    }
   ],
   "source": [
    "scope= ['https://spreadsheets.google.com/feeds','https://www.googleapis.com/auth/drive']\n",
    "credentials= ServiceAccountCredentials.from_json_keyfile_name('client_secret.json', scope) \n",
    "client= gspread.authorize(credentials)\n",
    "sheet= client.open_by_key('11D8_6u4ywy3yNYyrnMonyti6eflqUtpMfsxgLMBXEzk')#Car No Master list \n",
    "ws= sheet.worksheet('Current')\n",
    "data = ws.get_all_values()\n",
    "headers = data.pop(0)\n",
    "dfm = pd.DataFrame(data,columns=headers)\n",
    "# Copy of All P1 Parking Form (Responses)\n",
    "sheet= client.open_by_key('1Qc3rUeqZyoQuzz-ge_gwQaU47HLV2o-x_Y5CCJDeJDM')#Copy of All P1 Parking Form (Responses)\n",
    "ws= sheet.worksheet('DM')\n",
    "ws.update([df.columns.values.tolist()] + df.values.tolist(),value_input_option='USER_ENTERED')"
   ]
  },
  {
   "cell_type": "code",
   "execution_count": null,
   "id": "f0151f6f",
   "metadata": {},
   "outputs": [],
   "source": []
  },
  {
   "cell_type": "code",
   "execution_count": null,
   "id": "14a9536d",
   "metadata": {},
   "outputs": [],
   "source": []
  },
  {
   "cell_type": "code",
   "execution_count": null,
   "id": "d5062bb8",
   "metadata": {},
   "outputs": [],
   "source": []
  },
  {
   "cell_type": "code",
   "execution_count": null,
   "id": "858477ab",
   "metadata": {},
   "outputs": [],
   "source": []
  },
  {
   "cell_type": "code",
   "execution_count": null,
   "id": "f9d5249c",
   "metadata": {},
   "outputs": [],
   "source": []
  },
  {
   "cell_type": "markdown",
   "id": "075d5578",
   "metadata": {},
   "source": [
    "# Rough work"
   ]
  },
  {
   "cell_type": "code",
   "execution_count": 1,
   "id": "72cb1be4",
   "metadata": {},
   "outputs": [],
   "source": [
    "import pandas as pd\n",
    "import datetime\n",
    "from datetime import date, timedelta\n",
    "import gspread\n",
    "from oauth2client.service_account import ServiceAccountCredentials\n",
    "import warnings\n",
    "warnings.filterwarnings(\"ignore\")"
   ]
  },
  {
   "cell_type": "markdown",
   "id": "335bc901",
   "metadata": {},
   "source": [
    "<img src=\"example.jpg\" />"
   ]
  },
  {
   "cell_type": "markdown",
   "id": "091009c7",
   "metadata": {},
   "source": []
  },
  {
   "cell_type": "code",
   "execution_count": null,
   "id": "6a04de80",
   "metadata": {},
   "outputs": [],
   "source": []
  },
  {
   "cell_type": "code",
   "execution_count": null,
   "id": "dbe6ee28",
   "metadata": {},
   "outputs": [],
   "source": []
  },
  {
   "cell_type": "code",
   "execution_count": null,
   "id": "6a6bea4d",
   "metadata": {},
   "outputs": [],
   "source": [
    "df.query"
   ]
  },
  {
   "cell_type": "code",
   "execution_count": null,
   "id": "1b6f2cbe",
   "metadata": {},
   "outputs": [],
   "source": [
    "df.[df['column_name'] == unalloted]"
   ]
  },
  {
   "cell_type": "code",
   "execution_count": null,
   "id": "e43adffe",
   "metadata": {},
   "outputs": [],
   "source": []
  },
  {
   "cell_type": "code",
   "execution_count": 47,
   "id": "38ce7622",
   "metadata": {},
   "outputs": [
    {
     "ename": "AttributeError",
     "evalue": "module 'datetime' has no attribute 'now'",
     "output_type": "error",
     "traceback": [
      "\u001b[1;31m---------------------------------------------------------------------------\u001b[0m",
      "\u001b[1;31mAttributeError\u001b[0m                            Traceback (most recent call last)",
      "\u001b[1;32m~\\AppData\\Local\\Temp/ipykernel_5200/2061232404.py\u001b[0m in \u001b[0;36m<module>\u001b[1;34m\u001b[0m\n\u001b[0;32m      3\u001b[0m \u001b[1;31m# today_1 = today - pd.Timedelta(1, unit='D')\u001b[0m\u001b[1;33m\u001b[0m\u001b[1;33m\u001b[0m\u001b[0m\n\u001b[0;32m      4\u001b[0m \u001b[1;31m# today_1\u001b[0m\u001b[1;33m\u001b[0m\u001b[1;33m\u001b[0m\u001b[0m\n\u001b[1;32m----> 5\u001b[1;33m \u001b[0mtoday\u001b[0m \u001b[1;33m=\u001b[0m \u001b[0mpd\u001b[0m\u001b[1;33m.\u001b[0m\u001b[0mTimestamp\u001b[0m\u001b[1;33m(\u001b[0m\u001b[0mdatetime\u001b[0m\u001b[1;33m.\u001b[0m\u001b[0mnow\u001b[0m\u001b[1;33m(\u001b[0m\u001b[1;33m)\u001b[0m\u001b[1;33m)\u001b[0m\u001b[1;33m\u001b[0m\u001b[1;33m\u001b[0m\u001b[0m\n\u001b[0m",
      "\u001b[1;31mAttributeError\u001b[0m: module 'datetime' has no attribute 'now'"
     ]
    }
   ],
   "source": [
    "today = datetime.date.today()\n",
    "today\n",
    "# today_1 = today - pd.Timedelta(1, unit='D')\n",
    "# today_1\n",
    "today_1= today - datetime.timedelta(days=35)\n",
    "pd.Timestamp.today()  "
   ]
  },
  {
   "cell_type": "code",
   "execution_count": 54,
   "id": "47b71fb0",
   "metadata": {},
   "outputs": [
    {
     "data": {
      "text/plain": [
       "Timestamp('2022-05-21 15:54:42.494012')"
      ]
     },
     "execution_count": 54,
     "metadata": {},
     "output_type": "execute_result"
    }
   ],
   "source": [
    "# today = pd.to\n",
    "# today\n",
    "today = pd.Timestamp.today()  \n",
    "today"
   ]
  },
  {
   "cell_type": "code",
   "execution_count": 2,
   "id": "e19d30d2",
   "metadata": {},
   "outputs": [],
   "source": [
    "import pandas as pd\n",
    "import datetime\n",
    "from datetime import date, timedelta\n",
    "import gspread\n",
    "from oauth2client.service_account import ServiceAccountCredentials\n",
    "import warnings\n",
    "warnings.filterwarnings(\"ignore\")"
   ]
  },
  {
   "cell_type": "code",
   "execution_count": null,
   "id": "0be1ec4c",
   "metadata": {},
   "outputs": [],
   "source": []
  }
 ],
 "metadata": {
  "kernelspec": {
   "display_name": "Python 3 (ipykernel)",
   "language": "python",
   "name": "python3"
  },
  "language_info": {
   "codemirror_mode": {
    "name": "ipython",
    "version": 3
   },
   "file_extension": ".py",
   "mimetype": "text/x-python",
   "name": "python",
   "nbconvert_exporter": "python",
   "pygments_lexer": "ipython3",
   "version": "3.9.7"
  }
 },
 "nbformat": 4,
 "nbformat_minor": 5
}
